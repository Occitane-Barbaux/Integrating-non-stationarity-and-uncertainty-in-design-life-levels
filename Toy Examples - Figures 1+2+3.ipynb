{
 "cells": [
  {
   "cell_type": "code",
   "execution_count": 1,
   "id": "9c2e731b",
   "metadata": {},
   "outputs": [],
   "source": [
    "import sys,os\n",
    "import warnings\n",
    "import time as tm\n",
    "\n",
    "import NSSEA.models as nsm\n",
    "import NSSEA as ns\n",
    "\n",
    "import numpy as np\n",
    "import scipy.stats as sc\n",
    "import xarray as xr\n",
    "import pandas as pd\n",
    "\n",
    "import seaborn as sns\n",
    "import matplotlib.backends.backend_pdf as mpdf\n",
    "import matplotlib.pyplot as plt\n",
    "import matplotlib.patches as mplpatch\n",
    "\n",
    "import matplotlib.ticker\n",
    "sns.set_context(\"paper\")\n",
    "\n",
    "from matplotlib.ticker import MultipleLocator,FormatStrFormatter,MaxNLocator\n",
    "from matplotlib.ticker import StrMethodFormatter, NullFormatter,AutoMinorLocator\n",
    "from mpl_toolkits.axes_grid1.inset_locator import zoomed_inset_axes\n",
    "from mpl_toolkits.axes_grid1.inset_locator import mark_inset,inset_axes\n",
    "\n",
    "import random\n",
    "random.seed(42)"
   ]
  },
  {
   "cell_type": "code",
   "execution_count": 2,
   "id": "aaf258a8",
   "metadata": {},
   "outputs": [
    {
     "name": "stdout",
     "output_type": "stream",
     "text": [
      "/home/barbauxo/Documents/05_Autres Activités/Paper: Integrating  non-stationarity and  uncertainty in design life levels/Output/\n"
     ]
    }
   ],
   "source": [
    "pathFig=os.path.abspath(os.getcwd())+\"/Output/\"\n",
    "print(pathFig)"
   ]
  },
  {
   "cell_type": "code",
   "execution_count": 3,
   "id": "b34ad194",
   "metadata": {},
   "outputs": [],
   "source": [
    "ns_law      = nsm.GEV()"
   ]
  },
  {
   "cell_type": "code",
   "execution_count": null,
   "id": "164236bd",
   "metadata": {},
   "outputs": [],
   "source": []
  },
  {
   "cell_type": "markdown",
   "id": "6e31bfb8",
   "metadata": {},
   "source": [
    "# I) Dealing with non-stationary: Equivalent reliability"
   ]
  },
  {
   "cell_type": "code",
   "execution_count": 4,
   "id": "16b13a2b",
   "metadata": {},
   "outputs": [],
   "source": [
    "#Parameters\n",
    "T1=2050 #Period of interest 2050-2100\n",
    "T2=2100\n",
    "p=1/1000 # Annual risk of excess\n",
    "time_period    = np.arange( 1850 , 2101 , 1 , dtype = int ) # Total  time period\n",
    "\n",
    "#Stationnary GEV Parameters\n",
    "mu=0\n",
    "sigma=0.5\n",
    "xi=-0.2\n",
    "#non-Stationnary parameters\n",
    "mu1=0.07\n",
    "sigma1=0\n"
   ]
  },
  {
   "cell_type": "code",
   "execution_count": null,
   "id": "fb35497c",
   "metadata": {},
   "outputs": [],
   "source": []
  },
  {
   "cell_type": "code",
   "execution_count": 5,
   "id": "264bfd27",
   "metadata": {},
   "outputs": [
    {
     "data": {
      "text/plain": [
       "6.172698892171272"
      ]
     },
     "execution_count": 5,
     "metadata": {},
     "output_type": "execute_result"
    }
   ],
   "source": [
    "def RLP(p,mu,sigma,xi):\n",
    "    #Return Level given p (probability of excess) and mu,sigma,xi (gev parameters)\n",
    "    return mu-(sigma/xi)*(1-(-np.log(1-p))**(-xi))\n",
    "RL_s=RLP(p,mu,np.exp(sigma),xi)\n",
    "RL_s"
   ]
  },
  {
   "cell_type": "code",
   "execution_count": 6,
   "id": "ebc92594",
   "metadata": {},
   "outputs": [
    {
     "name": "stdout",
     "output_type": "stream",
     "text": [
      "2.987637018022618 4.9584703019412 6.172698892171272\n"
     ]
    }
   ],
   "source": [
    "#Return levels for various p values\n",
    "print(RLP(1/10,mu,np.exp(sigma),xi),RLP(1/100,mu,np.exp(sigma),xi),RLP(1/1000,mu,np.exp(sigma),xi))"
   ]
  },
  {
   "cell_type": "code",
   "execution_count": 7,
   "id": "a91b4c0f",
   "metadata": {},
   "outputs": [
    {
     "data": {
      "text/html": [
       "<div>\n",
       "<style scoped>\n",
       "    .dataframe tbody tr th:only-of-type {\n",
       "        vertical-align: middle;\n",
       "    }\n",
       "\n",
       "    .dataframe tbody tr th {\n",
       "        vertical-align: top;\n",
       "    }\n",
       "\n",
       "    .dataframe thead th {\n",
       "        text-align: right;\n",
       "    }\n",
       "</style>\n",
       "<table border=\"1\" class=\"dataframe\">\n",
       "  <thead>\n",
       "    <tr style=\"text-align: right;\">\n",
       "      <th></th>\n",
       "      <th>year</th>\n",
       "      <th>mu</th>\n",
       "      <th>sigma</th>\n",
       "      <th>xi</th>\n",
       "    </tr>\n",
       "  </thead>\n",
       "  <tbody>\n",
       "    <tr>\n",
       "      <th>0</th>\n",
       "      <td>1850</td>\n",
       "      <td>0</td>\n",
       "      <td>1.648721</td>\n",
       "      <td>-0.2</td>\n",
       "    </tr>\n",
       "    <tr>\n",
       "      <th>1</th>\n",
       "      <td>1851</td>\n",
       "      <td>0</td>\n",
       "      <td>1.648721</td>\n",
       "      <td>-0.2</td>\n",
       "    </tr>\n",
       "    <tr>\n",
       "      <th>2</th>\n",
       "      <td>1852</td>\n",
       "      <td>0</td>\n",
       "      <td>1.648721</td>\n",
       "      <td>-0.2</td>\n",
       "    </tr>\n",
       "    <tr>\n",
       "      <th>3</th>\n",
       "      <td>1853</td>\n",
       "      <td>0</td>\n",
       "      <td>1.648721</td>\n",
       "      <td>-0.2</td>\n",
       "    </tr>\n",
       "    <tr>\n",
       "      <th>4</th>\n",
       "      <td>1854</td>\n",
       "      <td>0</td>\n",
       "      <td>1.648721</td>\n",
       "      <td>-0.2</td>\n",
       "    </tr>\n",
       "    <tr>\n",
       "      <th>...</th>\n",
       "      <td>...</td>\n",
       "      <td>...</td>\n",
       "      <td>...</td>\n",
       "      <td>...</td>\n",
       "    </tr>\n",
       "    <tr>\n",
       "      <th>246</th>\n",
       "      <td>2096</td>\n",
       "      <td>0</td>\n",
       "      <td>1.648721</td>\n",
       "      <td>-0.2</td>\n",
       "    </tr>\n",
       "    <tr>\n",
       "      <th>247</th>\n",
       "      <td>2097</td>\n",
       "      <td>0</td>\n",
       "      <td>1.648721</td>\n",
       "      <td>-0.2</td>\n",
       "    </tr>\n",
       "    <tr>\n",
       "      <th>248</th>\n",
       "      <td>2098</td>\n",
       "      <td>0</td>\n",
       "      <td>1.648721</td>\n",
       "      <td>-0.2</td>\n",
       "    </tr>\n",
       "    <tr>\n",
       "      <th>249</th>\n",
       "      <td>2099</td>\n",
       "      <td>0</td>\n",
       "      <td>1.648721</td>\n",
       "      <td>-0.2</td>\n",
       "    </tr>\n",
       "    <tr>\n",
       "      <th>250</th>\n",
       "      <td>2100</td>\n",
       "      <td>0</td>\n",
       "      <td>1.648721</td>\n",
       "      <td>-0.2</td>\n",
       "    </tr>\n",
       "  </tbody>\n",
       "</table>\n",
       "<p>251 rows × 4 columns</p>\n",
       "</div>"
      ],
      "text/plain": [
       "     year  mu     sigma   xi\n",
       "0    1850   0  1.648721 -0.2\n",
       "1    1851   0  1.648721 -0.2\n",
       "2    1852   0  1.648721 -0.2\n",
       "3    1853   0  1.648721 -0.2\n",
       "4    1854   0  1.648721 -0.2\n",
       "..    ...  ..       ...  ...\n",
       "246  2096   0  1.648721 -0.2\n",
       "247  2097   0  1.648721 -0.2\n",
       "248  2098   0  1.648721 -0.2\n",
       "249  2099   0  1.648721 -0.2\n",
       "250  2100   0  1.648721 -0.2\n",
       "\n",
       "[251 rows x 4 columns]"
      ]
     },
     "execution_count": 7,
     "metadata": {},
     "output_type": "execute_result"
    }
   ],
   "source": [
    "para_stationnaire = pd.DataFrame({\n",
    "\"year\": time_period,\n",
    "\"mu\":[mu]*len(time_period) ,\n",
    "\"sigma\": [np.exp(sigma)]*len(time_period),\n",
    "\"xi\": [xi]*len(time_period)\n",
    "})\n",
    "#Create time serie\n",
    "para_stationnaire"
   ]
  },
  {
   "cell_type": "code",
   "execution_count": 8,
   "id": "5cfac94d",
   "metadata": {},
   "outputs": [],
   "source": [
    "#EQR Functions\n",
    "\n",
    "\n",
    "def proba_period_mult(x,para,T1,T2,xlen):\n",
    "    #total probability of excess over the period T1-T2\n",
    "    proba_full=np.zeros(shape=( T2+1-T1,xlen))\n",
    "    for i in range(T1,T2+1):\n",
    "        proba_full[i-T1]=np.asarray([sc.genextreme.cdf(x, -para[para[\"year\"]==i][\"xi\"],para[para[\"year\"]==i][\"mu\"],para[para[\"year\"]==i][\"sigma\"]) ])\n",
    "    proba_z=np.prod(proba_full,axis=0)   \n",
    "    return proba_z\n",
    "\n",
    "\n",
    "\n",
    "\n",
    "def find_nearest(array, value):\n",
    "    array = np.asarray(array)\n",
    "    idx = (np.abs(array - value)).argmin()\n",
    "    return idx\n",
    "\n",
    "\n",
    "def Find_EQR(para,p,T1,T2,xlen=1000):\n",
    "    #Find EQR Value\n",
    "    min_val_s=sc.genextreme.ppf((1-p), -para[para[\"year\"]==T1][\"xi\"],para[para[\"year\"]==T1][\"mu\"],para[para[\"year\"]==T1][\"sigma\"])\n",
    "    max_val_s=sc.genextreme.ppf((1-p), -para[para[\"year\"]==T2][\"xi\"],para[para[\"year\"]==T2][\"mu\"],para[para[\"year\"]==T2][\"sigma\"])\n",
    "    x=np.linspace(max_val_s[0],min_val_s[0] ,xlen) #Valeurs a tester\n",
    "    test_val_s=proba_period_mult(x,para,T1,T2,xlen)  #Probabilité sur la periode t1 t2 pour chaque valeur\n",
    "    Eq_Reliability=(1-p)**(T2-T1+1) #Formule EQR\n",
    "    idx=find_nearest(test_val_s, Eq_Reliability) # Valeur dont la proba est la plus prche de lEQR\n",
    "    return x[idx],test_val_s[idx],Eq_Reliability"
   ]
  },
  {
   "cell_type": "code",
   "execution_count": 9,
   "id": "14be7578",
   "metadata": {},
   "outputs": [
    {
     "data": {
      "text/plain": [
       "6.172698892171273"
      ]
     },
     "execution_count": 9,
     "metadata": {},
     "output_type": "execute_result"
    }
   ],
   "source": [
    "\n",
    "EQR_s=Find_EQR(para_stationnaire,p,T1,T2,xlen=1000)[0]\n",
    "EQR_s"
   ]
  },
  {
   "cell_type": "markdown",
   "id": "f714fffc",
   "metadata": {},
   "source": [
    "## Non stationnarity "
   ]
  },
  {
   "cell_type": "code",
   "execution_count": 10,
   "id": "a1a217f6",
   "metadata": {},
   "outputs": [],
   "source": [
    "#Covariable (linear with time after tmin)\n",
    "def X_t(t,tmin=2000):\n",
    "    return (t-2050)*(t>(tmin-1))"
   ]
  },
  {
   "cell_type": "code",
   "execution_count": 11,
   "id": "a057e26d",
   "metadata": {},
   "outputs": [
    {
     "data": {
      "text/html": [
       "<div>\n",
       "<style scoped>\n",
       "    .dataframe tbody tr th:only-of-type {\n",
       "        vertical-align: middle;\n",
       "    }\n",
       "\n",
       "    .dataframe tbody tr th {\n",
       "        vertical-align: top;\n",
       "    }\n",
       "\n",
       "    .dataframe thead th {\n",
       "        text-align: right;\n",
       "    }\n",
       "</style>\n",
       "<table border=\"1\" class=\"dataframe\">\n",
       "  <thead>\n",
       "    <tr style=\"text-align: right;\">\n",
       "      <th></th>\n",
       "      <th>year</th>\n",
       "      <th>mu</th>\n",
       "      <th>sigma</th>\n",
       "      <th>xi</th>\n",
       "    </tr>\n",
       "  </thead>\n",
       "  <tbody>\n",
       "    <tr>\n",
       "      <th>0</th>\n",
       "      <td>1850</td>\n",
       "      <td>0.00</td>\n",
       "      <td>1.648721</td>\n",
       "      <td>-0.2</td>\n",
       "    </tr>\n",
       "    <tr>\n",
       "      <th>1</th>\n",
       "      <td>1851</td>\n",
       "      <td>0.00</td>\n",
       "      <td>1.648721</td>\n",
       "      <td>-0.2</td>\n",
       "    </tr>\n",
       "    <tr>\n",
       "      <th>2</th>\n",
       "      <td>1852</td>\n",
       "      <td>0.00</td>\n",
       "      <td>1.648721</td>\n",
       "      <td>-0.2</td>\n",
       "    </tr>\n",
       "    <tr>\n",
       "      <th>3</th>\n",
       "      <td>1853</td>\n",
       "      <td>0.00</td>\n",
       "      <td>1.648721</td>\n",
       "      <td>-0.2</td>\n",
       "    </tr>\n",
       "    <tr>\n",
       "      <th>4</th>\n",
       "      <td>1854</td>\n",
       "      <td>0.00</td>\n",
       "      <td>1.648721</td>\n",
       "      <td>-0.2</td>\n",
       "    </tr>\n",
       "    <tr>\n",
       "      <th>...</th>\n",
       "      <td>...</td>\n",
       "      <td>...</td>\n",
       "      <td>...</td>\n",
       "      <td>...</td>\n",
       "    </tr>\n",
       "    <tr>\n",
       "      <th>246</th>\n",
       "      <td>2096</td>\n",
       "      <td>3.22</td>\n",
       "      <td>1.648721</td>\n",
       "      <td>-0.2</td>\n",
       "    </tr>\n",
       "    <tr>\n",
       "      <th>247</th>\n",
       "      <td>2097</td>\n",
       "      <td>3.29</td>\n",
       "      <td>1.648721</td>\n",
       "      <td>-0.2</td>\n",
       "    </tr>\n",
       "    <tr>\n",
       "      <th>248</th>\n",
       "      <td>2098</td>\n",
       "      <td>3.36</td>\n",
       "      <td>1.648721</td>\n",
       "      <td>-0.2</td>\n",
       "    </tr>\n",
       "    <tr>\n",
       "      <th>249</th>\n",
       "      <td>2099</td>\n",
       "      <td>3.43</td>\n",
       "      <td>1.648721</td>\n",
       "      <td>-0.2</td>\n",
       "    </tr>\n",
       "    <tr>\n",
       "      <th>250</th>\n",
       "      <td>2100</td>\n",
       "      <td>3.50</td>\n",
       "      <td>1.648721</td>\n",
       "      <td>-0.2</td>\n",
       "    </tr>\n",
       "  </tbody>\n",
       "</table>\n",
       "<p>251 rows × 4 columns</p>\n",
       "</div>"
      ],
      "text/plain": [
       "     year    mu     sigma   xi\n",
       "0    1850  0.00  1.648721 -0.2\n",
       "1    1851  0.00  1.648721 -0.2\n",
       "2    1852  0.00  1.648721 -0.2\n",
       "3    1853  0.00  1.648721 -0.2\n",
       "4    1854  0.00  1.648721 -0.2\n",
       "..    ...   ...       ...  ...\n",
       "246  2096  3.22  1.648721 -0.2\n",
       "247  2097  3.29  1.648721 -0.2\n",
       "248  2098  3.36  1.648721 -0.2\n",
       "249  2099  3.43  1.648721 -0.2\n",
       "250  2100  3.50  1.648721 -0.2\n",
       "\n",
       "[251 rows x 4 columns]"
      ]
     },
     "execution_count": 11,
     "metadata": {},
     "output_type": "execute_result"
    }
   ],
   "source": [
    "para_non_stationnaire = pd.DataFrame({\n",
    "\"year\": time_period,\n",
    "\"mu\":[mu+mu1*X_t(t) for t in time_period] ,\n",
    "\"sigma\": [np.exp(sigma+sigma1*X_t(t)) for t in time_period],\n",
    "\"xi\": [xi]*len(time_period)\n",
    "})\n",
    "para_non_stationnaire"
   ]
  },
  {
   "cell_type": "code",
   "execution_count": 12,
   "id": "6f3ee44e",
   "metadata": {},
   "outputs": [
    {
     "data": {
      "text/plain": [
       "[6.172698892171272,\n",
       " 6.172698892171272,\n",
       " 6.172698892171272,\n",
       " 6.172698892171272,\n",
       " 6.172698892171272,\n",
       " 6.172698892171272,\n",
       " 6.172698892171272,\n",
       " 6.172698892171272,\n",
       " 6.172698892171272,\n",
       " 6.172698892171272,\n",
       " 6.172698892171272,\n",
       " 6.172698892171272,\n",
       " 6.172698892171272,\n",
       " 6.172698892171272,\n",
       " 6.172698892171272,\n",
       " 6.172698892171272,\n",
       " 6.172698892171272,\n",
       " 6.172698892171272,\n",
       " 6.172698892171272,\n",
       " 6.172698892171272,\n",
       " 6.172698892171272,\n",
       " 6.172698892171272,\n",
       " 6.172698892171272,\n",
       " 6.172698892171272,\n",
       " 6.172698892171272,\n",
       " 6.172698892171272,\n",
       " 6.172698892171272,\n",
       " 6.172698892171272,\n",
       " 6.172698892171272,\n",
       " 6.172698892171272,\n",
       " 6.172698892171272,\n",
       " 6.172698892171272,\n",
       " 6.172698892171272,\n",
       " 6.172698892171272,\n",
       " 6.172698892171272,\n",
       " 6.172698892171272,\n",
       " 6.172698892171272,\n",
       " 6.172698892171272,\n",
       " 6.172698892171272,\n",
       " 6.172698892171272,\n",
       " 6.172698892171272,\n",
       " 6.172698892171272,\n",
       " 6.172698892171272,\n",
       " 6.172698892171272,\n",
       " 6.172698892171272,\n",
       " 6.172698892171272,\n",
       " 6.172698892171272,\n",
       " 6.172698892171272,\n",
       " 6.172698892171272,\n",
       " 6.172698892171272,\n",
       " 6.172698892171272,\n",
       " 6.172698892171272,\n",
       " 6.172698892171272,\n",
       " 6.172698892171272,\n",
       " 6.172698892171272,\n",
       " 6.172698892171272,\n",
       " 6.172698892171272,\n",
       " 6.172698892171272,\n",
       " 6.172698892171272,\n",
       " 6.172698892171272,\n",
       " 6.172698892171272,\n",
       " 6.172698892171272,\n",
       " 6.172698892171272,\n",
       " 6.172698892171272,\n",
       " 6.172698892171272,\n",
       " 6.172698892171272,\n",
       " 6.172698892171272,\n",
       " 6.172698892171272,\n",
       " 6.172698892171272,\n",
       " 6.172698892171272,\n",
       " 6.172698892171272,\n",
       " 6.172698892171272,\n",
       " 6.172698892171272,\n",
       " 6.172698892171272,\n",
       " 6.172698892171272,\n",
       " 6.172698892171272,\n",
       " 6.172698892171272,\n",
       " 6.172698892171272,\n",
       " 6.172698892171272,\n",
       " 6.172698892171272,\n",
       " 6.172698892171272,\n",
       " 6.172698892171272,\n",
       " 6.172698892171272,\n",
       " 6.172698892171272,\n",
       " 6.172698892171272,\n",
       " 6.172698892171272,\n",
       " 6.172698892171272,\n",
       " 6.172698892171272,\n",
       " 6.172698892171272,\n",
       " 6.172698892171272,\n",
       " 6.172698892171272,\n",
       " 6.172698892171272,\n",
       " 6.172698892171272,\n",
       " 6.172698892171272,\n",
       " 6.172698892171272,\n",
       " 6.172698892171272,\n",
       " 6.172698892171272,\n",
       " 6.172698892171272,\n",
       " 6.172698892171272,\n",
       " 6.172698892171272,\n",
       " 6.172698892171272,\n",
       " 6.172698892171272,\n",
       " 6.172698892171272,\n",
       " 6.172698892171272,\n",
       " 6.172698892171272,\n",
       " 6.172698892171272,\n",
       " 6.172698892171272,\n",
       " 6.172698892171272,\n",
       " 6.172698892171272,\n",
       " 6.172698892171272,\n",
       " 6.172698892171272,\n",
       " 6.172698892171272,\n",
       " 6.172698892171272,\n",
       " 6.172698892171272,\n",
       " 6.172698892171272,\n",
       " 6.172698892171272,\n",
       " 6.172698892171272,\n",
       " 6.172698892171272,\n",
       " 6.172698892171272,\n",
       " 6.172698892171272,\n",
       " 6.172698892171272,\n",
       " 6.172698892171272,\n",
       " 6.172698892171272,\n",
       " 6.172698892171272,\n",
       " 6.172698892171272,\n",
       " 6.172698892171272,\n",
       " 6.172698892171272,\n",
       " 6.172698892171272,\n",
       " 6.172698892171272,\n",
       " 6.172698892171272,\n",
       " 6.172698892171272,\n",
       " 6.172698892171272,\n",
       " 6.172698892171272,\n",
       " 6.172698892171272,\n",
       " 6.172698892171272,\n",
       " 6.172698892171272,\n",
       " 6.172698892171272,\n",
       " 6.172698892171272,\n",
       " 6.172698892171272,\n",
       " 6.172698892171272,\n",
       " 6.172698892171272,\n",
       " 6.172698892171272,\n",
       " 6.172698892171272,\n",
       " 6.172698892171272,\n",
       " 6.172698892171272,\n",
       " 6.172698892171272,\n",
       " 6.172698892171272,\n",
       " 6.172698892171272,\n",
       " 6.172698892171272,\n",
       " 6.172698892171272,\n",
       " 2.672698892171272,\n",
       " 2.7426988921712723,\n",
       " 2.812698892171272,\n",
       " 2.882698892171272,\n",
       " 2.9526988921712722,\n",
       " 3.022698892171272,\n",
       " 3.0926988921712724,\n",
       " 3.162698892171272,\n",
       " 3.232698892171272,\n",
       " 3.3026988921712723,\n",
       " 3.372698892171272,\n",
       " 3.442698892171272,\n",
       " 3.5126988921712723,\n",
       " 3.582698892171272,\n",
       " 3.652698892171272,\n",
       " 3.7226988921712723,\n",
       " 3.792698892171272,\n",
       " 3.8626988921712724,\n",
       " 3.932698892171272,\n",
       " 4.0026988921712725,\n",
       " 4.072698892171273,\n",
       " 4.142698892171272,\n",
       " 4.2126988921712725,\n",
       " 4.282698892171272,\n",
       " 4.352698892171272,\n",
       " 4.422698892171272,\n",
       " 4.492698892171273,\n",
       " 4.562698892171272,\n",
       " 4.632698892171272,\n",
       " 4.702698892171272,\n",
       " 4.772698892171272,\n",
       " 4.842698892171272,\n",
       " 4.912698892171273,\n",
       " 4.982698892171272,\n",
       " 5.052698892171272,\n",
       " 5.122698892171273,\n",
       " 5.192698892171272,\n",
       " 5.262698892171272,\n",
       " 5.332698892171273,\n",
       " 5.402698892171273,\n",
       " 5.472698892171272,\n",
       " 5.5426988921712725,\n",
       " 5.612698892171272,\n",
       " 5.682698892171272,\n",
       " 5.7526988921712725,\n",
       " 5.822698892171273,\n",
       " 5.892698892171272,\n",
       " 5.9626988921712725,\n",
       " 6.032698892171273,\n",
       " 6.102698892171272,\n",
       " 6.172698892171272,\n",
       " 6.242698892171273,\n",
       " 6.312698892171272,\n",
       " 6.382698892171272,\n",
       " 6.452698892171273,\n",
       " 6.522698892171272,\n",
       " 6.592698892171272,\n",
       " 6.662698892171273,\n",
       " 6.732698892171273,\n",
       " 6.802698892171272,\n",
       " 6.872698892171273,\n",
       " 6.942698892171272,\n",
       " 7.012698892171272,\n",
       " 7.082698892171273,\n",
       " 7.152698892171273,\n",
       " 7.222698892171272,\n",
       " 7.2926988921712725,\n",
       " 7.362698892171273,\n",
       " 7.432698892171272,\n",
       " 7.5026988921712725,\n",
       " 7.572698892171273,\n",
       " 7.642698892171273,\n",
       " 7.7126988921712725,\n",
       " 7.782698892171273,\n",
       " 7.852698892171272,\n",
       " 7.922698892171272,\n",
       " 7.992698892171273,\n",
       " 8.062698892171273,\n",
       " 8.132698892171273,\n",
       " 8.202698892171274,\n",
       " 8.272698892171272,\n",
       " 8.342698892171272,\n",
       " 8.412698892171273,\n",
       " 8.482698892171273,\n",
       " 8.552698892171273,\n",
       " 8.622698892171272,\n",
       " 8.692698892171272,\n",
       " 8.762698892171272,\n",
       " 8.832698892171273,\n",
       " 8.902698892171273,\n",
       " 8.972698892171273,\n",
       " 9.042698892171273,\n",
       " 9.112698892171274,\n",
       " 9.182698892171272,\n",
       " 9.252698892171273,\n",
       " 9.322698892171273,\n",
       " 9.392698892171273,\n",
       " 9.462698892171273,\n",
       " 9.532698892171272,\n",
       " 9.602698892171272,\n",
       " 9.672698892171272]"
      ]
     },
     "execution_count": 12,
     "metadata": {},
     "output_type": "execute_result"
    }
   ],
   "source": [
    "RL_t=[RLP(p,para_non_stationnaire[para_non_stationnaire[\"year\"]==i][\"mu\"],para_non_stationnaire[para_non_stationnaire[\"year\"]==i][\"sigma\"],para_non_stationnaire[para_non_stationnaire[\"year\"]==i][\"xi\"]).values[0] for i in time_period]\n",
    "RL_t"
   ]
  },
  {
   "cell_type": "code",
   "execution_count": 13,
   "id": "057078c9",
   "metadata": {},
   "outputs": [
    {
     "data": {
      "text/plain": [
       "8.71974593921832"
      ]
     },
     "execution_count": 13,
     "metadata": {},
     "output_type": "execute_result"
    }
   ],
   "source": [
    "EQR_ns=Find_EQR(para_non_stationnaire,p,T1,T2,xlen=1000)[0]\n",
    "EQR_ns"
   ]
  },
  {
   "cell_type": "code",
   "execution_count": 14,
   "id": "c24633db",
   "metadata": {},
   "outputs": [
    {
     "data": {
      "text/html": [
       "<div>\n",
       "<style scoped>\n",
       "    .dataframe tbody tr th:only-of-type {\n",
       "        vertical-align: middle;\n",
       "    }\n",
       "\n",
       "    .dataframe tbody tr th {\n",
       "        vertical-align: top;\n",
       "    }\n",
       "\n",
       "    .dataframe thead th {\n",
       "        text-align: right;\n",
       "    }\n",
       "</style>\n",
       "<table border=\"1\" class=\"dataframe\">\n",
       "  <thead>\n",
       "    <tr style=\"text-align: right;\">\n",
       "      <th></th>\n",
       "      <th>year</th>\n",
       "      <th>mu</th>\n",
       "      <th>sigma</th>\n",
       "      <th>xi</th>\n",
       "      <th>RL</th>\n",
       "    </tr>\n",
       "  </thead>\n",
       "  <tbody>\n",
       "    <tr>\n",
       "      <th>235</th>\n",
       "      <td>2085</td>\n",
       "      <td>2.45</td>\n",
       "      <td>1.648721</td>\n",
       "      <td>-0.2</td>\n",
       "      <td>8.622699</td>\n",
       "    </tr>\n",
       "    <tr>\n",
       "      <th>236</th>\n",
       "      <td>2086</td>\n",
       "      <td>2.52</td>\n",
       "      <td>1.648721</td>\n",
       "      <td>-0.2</td>\n",
       "      <td>8.692699</td>\n",
       "    </tr>\n",
       "    <tr>\n",
       "      <th>237</th>\n",
       "      <td>2087</td>\n",
       "      <td>2.59</td>\n",
       "      <td>1.648721</td>\n",
       "      <td>-0.2</td>\n",
       "      <td>8.762699</td>\n",
       "    </tr>\n",
       "    <tr>\n",
       "      <th>238</th>\n",
       "      <td>2088</td>\n",
       "      <td>2.66</td>\n",
       "      <td>1.648721</td>\n",
       "      <td>-0.2</td>\n",
       "      <td>8.832699</td>\n",
       "    </tr>\n",
       "    <tr>\n",
       "      <th>239</th>\n",
       "      <td>2089</td>\n",
       "      <td>2.73</td>\n",
       "      <td>1.648721</td>\n",
       "      <td>-0.2</td>\n",
       "      <td>8.902699</td>\n",
       "    </tr>\n",
       "    <tr>\n",
       "      <th>240</th>\n",
       "      <td>2090</td>\n",
       "      <td>2.80</td>\n",
       "      <td>1.648721</td>\n",
       "      <td>-0.2</td>\n",
       "      <td>8.972699</td>\n",
       "    </tr>\n",
       "    <tr>\n",
       "      <th>241</th>\n",
       "      <td>2091</td>\n",
       "      <td>2.87</td>\n",
       "      <td>1.648721</td>\n",
       "      <td>-0.2</td>\n",
       "      <td>9.042699</td>\n",
       "    </tr>\n",
       "    <tr>\n",
       "      <th>242</th>\n",
       "      <td>2092</td>\n",
       "      <td>2.94</td>\n",
       "      <td>1.648721</td>\n",
       "      <td>-0.2</td>\n",
       "      <td>9.112699</td>\n",
       "    </tr>\n",
       "    <tr>\n",
       "      <th>243</th>\n",
       "      <td>2093</td>\n",
       "      <td>3.01</td>\n",
       "      <td>1.648721</td>\n",
       "      <td>-0.2</td>\n",
       "      <td>9.182699</td>\n",
       "    </tr>\n",
       "    <tr>\n",
       "      <th>244</th>\n",
       "      <td>2094</td>\n",
       "      <td>3.08</td>\n",
       "      <td>1.648721</td>\n",
       "      <td>-0.2</td>\n",
       "      <td>9.252699</td>\n",
       "    </tr>\n",
       "    <tr>\n",
       "      <th>245</th>\n",
       "      <td>2095</td>\n",
       "      <td>3.15</td>\n",
       "      <td>1.648721</td>\n",
       "      <td>-0.2</td>\n",
       "      <td>9.322699</td>\n",
       "    </tr>\n",
       "    <tr>\n",
       "      <th>246</th>\n",
       "      <td>2096</td>\n",
       "      <td>3.22</td>\n",
       "      <td>1.648721</td>\n",
       "      <td>-0.2</td>\n",
       "      <td>9.392699</td>\n",
       "    </tr>\n",
       "    <tr>\n",
       "      <th>247</th>\n",
       "      <td>2097</td>\n",
       "      <td>3.29</td>\n",
       "      <td>1.648721</td>\n",
       "      <td>-0.2</td>\n",
       "      <td>9.462699</td>\n",
       "    </tr>\n",
       "    <tr>\n",
       "      <th>248</th>\n",
       "      <td>2098</td>\n",
       "      <td>3.36</td>\n",
       "      <td>1.648721</td>\n",
       "      <td>-0.2</td>\n",
       "      <td>9.532699</td>\n",
       "    </tr>\n",
       "    <tr>\n",
       "      <th>249</th>\n",
       "      <td>2099</td>\n",
       "      <td>3.43</td>\n",
       "      <td>1.648721</td>\n",
       "      <td>-0.2</td>\n",
       "      <td>9.602699</td>\n",
       "    </tr>\n",
       "    <tr>\n",
       "      <th>250</th>\n",
       "      <td>2100</td>\n",
       "      <td>3.50</td>\n",
       "      <td>1.648721</td>\n",
       "      <td>-0.2</td>\n",
       "      <td>9.672699</td>\n",
       "    </tr>\n",
       "  </tbody>\n",
       "</table>\n",
       "</div>"
      ],
      "text/plain": [
       "     year    mu     sigma   xi        RL\n",
       "235  2085  2.45  1.648721 -0.2  8.622699\n",
       "236  2086  2.52  1.648721 -0.2  8.692699\n",
       "237  2087  2.59  1.648721 -0.2  8.762699\n",
       "238  2088  2.66  1.648721 -0.2  8.832699\n",
       "239  2089  2.73  1.648721 -0.2  8.902699\n",
       "240  2090  2.80  1.648721 -0.2  8.972699\n",
       "241  2091  2.87  1.648721 -0.2  9.042699\n",
       "242  2092  2.94  1.648721 -0.2  9.112699\n",
       "243  2093  3.01  1.648721 -0.2  9.182699\n",
       "244  2094  3.08  1.648721 -0.2  9.252699\n",
       "245  2095  3.15  1.648721 -0.2  9.322699\n",
       "246  2096  3.22  1.648721 -0.2  9.392699\n",
       "247  2097  3.29  1.648721 -0.2  9.462699\n",
       "248  2098  3.36  1.648721 -0.2  9.532699\n",
       "249  2099  3.43  1.648721 -0.2  9.602699\n",
       "250  2100  3.50  1.648721 -0.2  9.672699"
      ]
     },
     "execution_count": 14,
     "metadata": {},
     "output_type": "execute_result"
    }
   ],
   "source": [
    "para_non_stationnaire[\"RL\"]=RL_t\n",
    "para_non_stationnaire[para_non_stationnaire[\"RL\"]>8.6]"
   ]
  },
  {
   "cell_type": "code",
   "execution_count": 15,
   "id": "748e45cf",
   "metadata": {},
   "outputs": [
    {
     "data": {
      "text/plain": [
       "6.172698892171272"
      ]
     },
     "execution_count": 15,
     "metadata": {},
     "output_type": "execute_result"
    }
   ],
   "source": [
    "RL_s"
   ]
  },
  {
   "cell_type": "code",
   "execution_count": 16,
   "id": "cc7c6122",
   "metadata": {},
   "outputs": [
    {
     "name": "stdout",
     "output_type": "stream",
     "text": [
      "2.672698892171272 9.672698892171272\n"
     ]
    }
   ],
   "source": [
    "ymin=np.min(RL_t)\n",
    "ymax=np.max(RL_t)\n",
    "print(ymin, ymax)"
   ]
  },
  {
   "cell_type": "code",
   "execution_count": 17,
   "id": "d3517243",
   "metadata": {},
   "outputs": [
    {
     "data": {
      "text/plain": [
       "(2100, 9.672698892171272)"
      ]
     },
     "execution_count": 17,
     "metadata": {},
     "output_type": "execute_result"
    }
   ],
   "source": [
    "time_period[-1],RL_t[-1]"
   ]
  },
  {
   "cell_type": "code",
   "execution_count": 18,
   "id": "c96adb8a",
   "metadata": {},
   "outputs": [
    {
     "data": {
      "text/plain": [
       "(2050, 6.172698892171272)"
      ]
     },
     "execution_count": 18,
     "metadata": {},
     "output_type": "execute_result"
    }
   ],
   "source": [
    "time_period[200],RL_t[200]"
   ]
  },
  {
   "cell_type": "code",
   "execution_count": null,
   "id": "1c5a9322",
   "metadata": {},
   "outputs": [],
   "source": []
  },
  {
   "cell_type": "code",
   "execution_count": 19,
   "id": "e4681ba1",
   "metadata": {},
   "outputs": [
    {
     "name": "stderr",
     "output_type": "stream",
     "text": [
      "<>:25: SyntaxWarning: invalid escape sequence '\\m'\n",
      "<>:53: SyntaxWarning: invalid escape sequence '\\m'\n",
      "<>:25: SyntaxWarning: invalid escape sequence '\\m'\n",
      "<>:53: SyntaxWarning: invalid escape sequence '\\m'\n",
      "/tmp/ipykernel_60532/3638213172.py:25: SyntaxWarning: invalid escape sequence '\\m'\n",
      "  title=plt.title(\"Stationary case \\n $\\mu(t)=0$\",backgroundcolor='lavender',verticalalignment=\"bottom\", horizontalalignment=\"center\")\n",
      "/tmp/ipykernel_60532/3638213172.py:53: SyntaxWarning: invalid escape sequence '\\m'\n",
      "  title=plt.title(\"Non-stationary case \\n $\\mu(t)=0.7(t-2050)$\",backgroundcolor='lavender',verticalalignment=\"bottom\", horizontalalignment=\"center\")\n"
     ]
    },
    {
     "data": {
      "image/png": "[encoded data removed]",
      "text/plain": [
       "<Figure size 1000x700 with 2 Axes>"
      ]
     },
     "metadata": {},
     "output_type": "display_data"
    }
   ],
   "source": [
    "ofile=os.path.join(  pathFig+\"Figure1.pdf\" )\n",
    "pdf= mpdf.PdfPages( ofile )\n",
    "fig = plt.figure( figsize = (10,7) )\n",
    "sns.set_context(\"talk\")\n",
    "\n",
    "#stationnaire\n",
    "ax = fig.add_subplot( 1 ,2 ,  1 )\n",
    "\n",
    "label = [\"Project lifetime\",\"Annual return level $z_p(t)$ \\n p=\"+\"{:.0e}\".format(p),  \"ER Level $z_p^{ER}$\"]\n",
    "\n",
    "\n",
    "plt.axhline(y=RL_s, color='r', linestyle='-',label=label[1])\n",
    "plt.hlines(y=EQR_s, xmin=T1, xmax=T2,color='g', linestyle='--',label=label[2])\n",
    "ax.axvspan(T1, T2, alpha=0.05, color='blue',label=label[0])\n",
    "\n",
    "ax.set_xlim(1990, 2110)\n",
    "ax.xaxis.set_major_locator(MultipleLocator(25))\n",
    "\n",
    "ax.set_ylim(ymin, ymax)\n",
    "ax.yaxis.set_minor_locator(MultipleLocator(0.5))\n",
    "#plt.gca().yaxis.set_major_formatter(FormatStrFormatter('%d°C'))\n",
    "\n",
    "ax.legend( ncol=3,bbox_to_anchor=(2.35, -.08))\n",
    "\n",
    "title=plt.title(\"Stationary case \\n $\\mu(t)=0$\",backgroundcolor='lavender',verticalalignment=\"bottom\", horizontalalignment=\"center\")\n",
    "title._bbox_patch._mutation_aspect = 0.08\n",
    "title.get_bbox_patch().set_boxstyle(\"square\", pad=3)\n",
    "title.get_bbox_patch().set(edgecolor=\"midnightblue\")\n",
    "\n",
    "for axis in ['top','bottom','left','right']:\n",
    "    ax.spines[axis].set_linewidth(0.5)\n",
    "\n",
    "\n",
    "#non stationnaire\n",
    "ax = fig.add_subplot( 1 ,2 ,  2 )\n",
    "\n",
    "ax.plot( time_period[150:] , RL_t[150:], color = \"red\" )\n",
    "\n",
    "plt.hlines(y=EQR_ns, xmin=T1, xmax=T2,color='g', linestyle='--')\n",
    "ax.axvspan(T1, T2, alpha=0.05, color='blue')\n",
    "ax.set_xlim(1990, 2110)\n",
    "ax.xaxis.set_major_locator(MultipleLocator(25))\n",
    "ax.set_ylim(ymin, ymax)\n",
    "#ax.get_yaxis().set_ticks([])\n",
    "ax.yaxis.tick_right()\n",
    "ax.yaxis.set_minor_locator(MultipleLocator(0.5))\n",
    "\n",
    "\n",
    "\n",
    "\n",
    "ax.set(ylabel=None)\n",
    "\n",
    "title=plt.title(\"Non-stationary case \\n $\\mu(t)=0.7(t-2050)$\",backgroundcolor='lavender',verticalalignment=\"bottom\", horizontalalignment=\"center\")\n",
    "#title._bbox_patch._mutation_aspect = 0.1\n",
    "\n",
    "title._bbox_patch._mutation_aspect = 0.15\n",
    "title.get_bbox_patch().set_boxstyle(\"square\", pad=1.8)\n",
    "title.get_bbox_patch().set(edgecolor=\"midnightblue\")\n",
    "\n",
    "\n",
    "for axis in ['top','bottom','left','right']:\n",
    "    ax.spines[axis].set_linewidth(0.5)\n",
    "\n",
    "\n",
    "#fig.suptitle('Main title but very very very \\n long long long long')\n",
    "#fig.subplots_adjust(top=0.88)\n",
    "\n",
    "plt.show()\n",
    "pdf.savefig(fig, bbox_inches = 'tight')\n",
    "plt.close(fig)\n",
    "pdf.close()\n"
   ]
  },
  {
   "cell_type": "markdown",
   "id": "98ce638a",
   "metadata": {},
   "source": [
    "# II) Accounting for estimation uncertainty: Predictive distribution"
   ]
  },
  {
   "cell_type": "code",
   "execution_count": 20,
   "id": "41891e71",
   "metadata": {},
   "outputs": [],
   "source": [
    "#Parametrization\n",
    "# mu ~ N(36,0.5)\n",
    "#log(sigma) ~ N(0.5,0.05)\n",
    "# xi~ N(-0.2,0.05)"
   ]
  },
  {
   "cell_type": "code",
   "execution_count": 21,
   "id": "633ff5ed",
   "metadata": {},
   "outputs": [],
   "source": [
    "mu_m=0\n",
    "mu_cov=0.5\n",
    "sigma_m=0.5\n",
    "sigma_cov=0.05\n",
    "xi_m=-0.2\n",
    "xi_cov=0.05\n",
    "\n",
    "p=1/10000\n",
    "ci=0.05\n",
    "tirage_para=1000 #Number of parameter draws\n",
    "tirage_pred=10000 #Number of draws for each predictive"
   ]
  },
  {
   "cell_type": "code",
   "execution_count": 22,
   "id": "d7bd8606",
   "metadata": {},
   "outputs": [],
   "source": [
    "#Sampling parameters\n",
    "mu_sample=sc.norm.rvs(size=tirage_para,loc=mu_m,scale=mu_cov)\n",
    "sigma_sample=np.exp(sc.norm.rvs(size=tirage_para,loc=sigma_m,scale=sigma_cov))\n",
    "xi_sample=sc.norm.rvs(size=tirage_para,loc=xi_m,scale=xi_cov)\n"
   ]
  },
  {
   "cell_type": "code",
   "execution_count": 23,
   "id": "d757dae9",
   "metadata": {},
   "outputs": [
    {
     "data": {
      "text/html": [
       "<div>\n",
       "<style scoped>\n",
       "    .dataframe tbody tr th:only-of-type {\n",
       "        vertical-align: middle;\n",
       "    }\n",
       "\n",
       "    .dataframe tbody tr th {\n",
       "        vertical-align: top;\n",
       "    }\n",
       "\n",
       "    .dataframe thead th {\n",
       "        text-align: right;\n",
       "    }\n",
       "</style>\n",
       "<table border=\"1\" class=\"dataframe\">\n",
       "  <thead>\n",
       "    <tr style=\"text-align: right;\">\n",
       "      <th></th>\n",
       "      <th>mu</th>\n",
       "      <th>sigma</th>\n",
       "      <th>xi</th>\n",
       "    </tr>\n",
       "  </thead>\n",
       "  <tbody>\n",
       "    <tr>\n",
       "      <th>0</th>\n",
       "      <td>-0.568419</td>\n",
       "      <td>1.659071</td>\n",
       "      <td>-0.142024</td>\n",
       "    </tr>\n",
       "    <tr>\n",
       "      <th>1</th>\n",
       "      <td>0.912723</td>\n",
       "      <td>1.687468</td>\n",
       "      <td>-0.204180</td>\n",
       "    </tr>\n",
       "    <tr>\n",
       "      <th>2</th>\n",
       "      <td>0.462888</td>\n",
       "      <td>1.667370</td>\n",
       "      <td>-0.187042</td>\n",
       "    </tr>\n",
       "    <tr>\n",
       "      <th>3</th>\n",
       "      <td>0.629863</td>\n",
       "      <td>1.771956</td>\n",
       "      <td>-0.101549</td>\n",
       "    </tr>\n",
       "    <tr>\n",
       "      <th>4</th>\n",
       "      <td>0.213419</td>\n",
       "      <td>1.598315</td>\n",
       "      <td>-0.221349</td>\n",
       "    </tr>\n",
       "    <tr>\n",
       "      <th>...</th>\n",
       "      <td>...</td>\n",
       "      <td>...</td>\n",
       "      <td>...</td>\n",
       "    </tr>\n",
       "    <tr>\n",
       "      <th>995</th>\n",
       "      <td>-0.344518</td>\n",
       "      <td>1.693340</td>\n",
       "      <td>-0.231761</td>\n",
       "    </tr>\n",
       "    <tr>\n",
       "      <th>996</th>\n",
       "      <td>-0.629908</td>\n",
       "      <td>1.564867</td>\n",
       "      <td>-0.183870</td>\n",
       "    </tr>\n",
       "    <tr>\n",
       "      <th>997</th>\n",
       "      <td>-0.603502</td>\n",
       "      <td>1.586821</td>\n",
       "      <td>-0.220570</td>\n",
       "    </tr>\n",
       "    <tr>\n",
       "      <th>998</th>\n",
       "      <td>-0.126974</td>\n",
       "      <td>1.617234</td>\n",
       "      <td>-0.228317</td>\n",
       "    </tr>\n",
       "    <tr>\n",
       "      <th>999</th>\n",
       "      <td>0.305354</td>\n",
       "      <td>1.654431</td>\n",
       "      <td>-0.193279</td>\n",
       "    </tr>\n",
       "  </tbody>\n",
       "</table>\n",
       "<p>1000 rows × 3 columns</p>\n",
       "</div>"
      ],
      "text/plain": [
       "           mu     sigma        xi\n",
       "0   -0.568419  1.659071 -0.142024\n",
       "1    0.912723  1.687468 -0.204180\n",
       "2    0.462888  1.667370 -0.187042\n",
       "3    0.629863  1.771956 -0.101549\n",
       "4    0.213419  1.598315 -0.221349\n",
       "..        ...       ...       ...\n",
       "995 -0.344518  1.693340 -0.231761\n",
       "996 -0.629908  1.564867 -0.183870\n",
       "997 -0.603502  1.586821 -0.220570\n",
       "998 -0.126974  1.617234 -0.228317\n",
       "999  0.305354  1.654431 -0.193279\n",
       "\n",
       "[1000 rows x 3 columns]"
      ]
     },
     "execution_count": 23,
     "metadata": {},
     "output_type": "execute_result"
    }
   ],
   "source": [
    "samples_para = pd.DataFrame({\n",
    "\"mu\":mu_sample ,\n",
    "\"sigma\": sigma_sample,\n",
    "\"xi\": xi_sample\n",
    "})\n",
    "samples_para"
   ]
  },
  {
   "cell_type": "code",
   "execution_count": 24,
   "id": "bbb369fa",
   "metadata": {},
   "outputs": [],
   "source": [
    "para_names=[\"mu\",\"sigma\",\"xi\"]\n",
    "true_para_names=['$\\\\mu$', '$\\\\sigma$',  '$\\\\xi$']\n",
    "ci=0.05"
   ]
  },
  {
   "cell_type": "code",
   "execution_count": 25,
   "id": "c10cc7e2",
   "metadata": {},
   "outputs": [
    {
     "data": {
      "image/png": "[encoded data removed]",
      "text/plain": [
       "<Figure size 1600x1000 with 3 Axes>"
      ]
     },
     "metadata": {},
     "output_type": "display_data"
    }
   ],
   "source": [
    "custom_params = {\"axes.spines.bottom\": True,\"axes.spines.right\": True,\"axes.spines.left\": True, \"axes.spines.top\":True}\n",
    "#sns.set_theme(style=\"whitegrid\",rc=custom_params)\n",
    "    \n",
    "ofile=os.path.join( pathFig , (\"Figure_Unused_1.pdf\" ))\n",
    "pdf = mpdf.PdfPages( ofile )\n",
    "\n",
    "\n",
    "kwargs = {  \"showmeans\" : False , \"showextrema\" : False , \"showmedians\" : True }\n",
    "fig = plt.figure( figsize = ( 16 , 10 ) )\n",
    "\n",
    "#sub_def=df[['para.1','para.2','para.3','para.4','para.5']]\n",
    "label = [\"Stationary\"]\n",
    "legend = [mplpatch.Patch(facecolor = c , edgecolor = c , label = l , alpha = 0.5 ) for c,l in zip([\"red\"],label)]\n",
    "\n",
    "\n",
    "for i in range(len(para_names)):\n",
    "    para=para_names[i]\n",
    "    ax = fig.add_subplot(1,len(para_names),i+1)\n",
    "   \n",
    "    vplot = ax.violinplot( samples_para[para]  , **kwargs )\n",
    "    \n",
    "    ql_para=samples_para[para].quantile(ci/2)\n",
    "    ax.hlines( ql_para , 1 - 0.1 , 1 + 0.1 , color = \"red\" )\n",
    "    qu_para=samples_para[para].quantile(1-ci/2)\n",
    "    ax.hlines( qu_para , 1 - 0.1 , 1 + 0.1 , color = \"red\" )\n",
    "    BE_para=samples_para[para].median()\n",
    "    ax.hlines( BE_para , 1 - 0.1 , 1 + 0.1 , color = \"red\", label= \"Non-stationnary\" )\n",
    "    \n",
    "    for pc in vplot[\"bodies\"]:\n",
    "        pc.set_facecolor(\"red\")\n",
    "        pc.set_edgecolor(\"red\")\n",
    "        pc.set_alpha(0.5)\n",
    "\n",
    "\n",
    "\n",
    "    ax.set_xticks([1])\n",
    "    \n",
    "    xticks = [ true_para_names[i] ]\n",
    "    ax.set_xticklabels( xticks , fontsize = 13 )\n",
    "    if samples_para[para].min()*samples_para[para].max()<0:\n",
    "        ax.hlines( 0 , 1-0.3 , 1+0.3, color = \"black\" )\n",
    "\n",
    "ax.legend( handles = legend , fontsize = 20 )\n",
    "fig.set_tight_layout(True)\n",
    "\n",
    "#fig.suptitle( \"With X sampling\", fontsize = 25 )\n",
    "plt.show()\n",
    "pdf.savefig(fig)\n",
    "plt.close(fig)\n",
    "pdf.close()"
   ]
  },
  {
   "cell_type": "code",
   "execution_count": 26,
   "id": "21f6b445",
   "metadata": {},
   "outputs": [
    {
     "data": {
      "text/html": [
       "<div>\n",
       "<style scoped>\n",
       "    .dataframe tbody tr th:only-of-type {\n",
       "        vertical-align: middle;\n",
       "    }\n",
       "\n",
       "    .dataframe tbody tr th {\n",
       "        vertical-align: top;\n",
       "    }\n",
       "\n",
       "    .dataframe thead th {\n",
       "        text-align: right;\n",
       "    }\n",
       "</style>\n",
       "<table border=\"1\" class=\"dataframe\">\n",
       "  <thead>\n",
       "    <tr style=\"text-align: right;\">\n",
       "      <th></th>\n",
       "      <th>mu</th>\n",
       "      <th>sigma</th>\n",
       "      <th>xi</th>\n",
       "      <th>RL_0.0001</th>\n",
       "    </tr>\n",
       "  </thead>\n",
       "  <tbody>\n",
       "    <tr>\n",
       "      <th>0</th>\n",
       "      <td>-0.568419</td>\n",
       "      <td>1.659071</td>\n",
       "      <td>-0.142024</td>\n",
       "      <td>7.955217</td>\n",
       "    </tr>\n",
       "    <tr>\n",
       "      <th>1</th>\n",
       "      <td>0.912723</td>\n",
       "      <td>1.687468</td>\n",
       "      <td>-0.204180</td>\n",
       "      <td>7.916937</td>\n",
       "    </tr>\n",
       "    <tr>\n",
       "      <th>2</th>\n",
       "      <td>0.462888</td>\n",
       "      <td>1.667370</td>\n",
       "      <td>-0.187042</td>\n",
       "      <td>7.785354</td>\n",
       "    </tr>\n",
       "    <tr>\n",
       "      <th>3</th>\n",
       "      <td>0.629863</td>\n",
       "      <td>1.771956</td>\n",
       "      <td>-0.101549</td>\n",
       "      <td>11.230829</td>\n",
       "    </tr>\n",
       "    <tr>\n",
       "      <th>4</th>\n",
       "      <td>0.213419</td>\n",
       "      <td>1.598315</td>\n",
       "      <td>-0.221349</td>\n",
       "      <td>6.494072</td>\n",
       "    </tr>\n",
       "    <tr>\n",
       "      <th>...</th>\n",
       "      <td>...</td>\n",
       "      <td>...</td>\n",
       "      <td>...</td>\n",
       "      <td>...</td>\n",
       "    </tr>\n",
       "    <tr>\n",
       "      <th>995</th>\n",
       "      <td>-0.344518</td>\n",
       "      <td>1.693340</td>\n",
       "      <td>-0.231761</td>\n",
       "      <td>6.097598</td>\n",
       "    </tr>\n",
       "    <tr>\n",
       "      <th>996</th>\n",
       "      <td>-0.629908</td>\n",
       "      <td>1.564867</td>\n",
       "      <td>-0.183870</td>\n",
       "      <td>6.315911</td>\n",
       "    </tr>\n",
       "    <tr>\n",
       "      <th>997</th>\n",
       "      <td>-0.603502</td>\n",
       "      <td>1.586821</td>\n",
       "      <td>-0.220570</td>\n",
       "      <td>5.647269</td>\n",
       "    </tr>\n",
       "    <tr>\n",
       "      <th>998</th>\n",
       "      <td>-0.126974</td>\n",
       "      <td>1.617234</td>\n",
       "      <td>-0.228317</td>\n",
       "      <td>6.091392</td>\n",
       "    </tr>\n",
       "    <tr>\n",
       "      <th>999</th>\n",
       "      <td>0.305354</td>\n",
       "      <td>1.654431</td>\n",
       "      <td>-0.193279</td>\n",
       "      <td>7.421875</td>\n",
       "    </tr>\n",
       "  </tbody>\n",
       "</table>\n",
       "<p>1000 rows × 4 columns</p>\n",
       "</div>"
      ],
      "text/plain": [
       "           mu     sigma        xi  RL_0.0001\n",
       "0   -0.568419  1.659071 -0.142024   7.955217\n",
       "1    0.912723  1.687468 -0.204180   7.916937\n",
       "2    0.462888  1.667370 -0.187042   7.785354\n",
       "3    0.629863  1.771956 -0.101549  11.230829\n",
       "4    0.213419  1.598315 -0.221349   6.494072\n",
       "..        ...       ...       ...        ...\n",
       "995 -0.344518  1.693340 -0.231761   6.097598\n",
       "996 -0.629908  1.564867 -0.183870   6.315911\n",
       "997 -0.603502  1.586821 -0.220570   5.647269\n",
       "998 -0.126974  1.617234 -0.228317   6.091392\n",
       "999  0.305354  1.654431 -0.193279   7.421875\n",
       "\n",
       "[1000 rows x 4 columns]"
      ]
     },
     "execution_count": 26,
     "metadata": {},
     "output_type": "execute_result"
    }
   ],
   "source": [
    "samples_para[\"RL_\"+str(p)]=RLP(p,samples_para[\"mu\"],samples_para[\"sigma\"],samples_para[\"xi\"])\n",
    "samples_para"
   ]
  },
  {
   "cell_type": "code",
   "execution_count": 27,
   "id": "e4d0415f",
   "metadata": {},
   "outputs": [],
   "source": [
    "#Credibility intervals\n",
    "#RL_BE=samples_para[\"RL_\"+str(p)].mean()\n",
    "#RL_up=samples_para[\"RL_\"+str(p)].quantile(1-ci/2)\n",
    "#RL_low=samples_para[\"RL_\"+str(p)].quantile(ci/2)\n",
    "#print(RL_up,RL_BE,RL_low)"
   ]
  },
  {
   "cell_type": "code",
   "execution_count": 28,
   "id": "6ed10288",
   "metadata": {},
   "outputs": [],
   "source": [
    "#Credibility intervals 0.05 (used for figures)\n",
    "Q_up=samples_para[\"RL_\"+str(p)].quantile(1-0.05/2)\n",
    "Q_low=samples_para[\"RL_\"+str(p)].quantile(0.05/2)\n",
    "BE_estim=samples_para[\"RL_\"+str(p)].median()"
   ]
  },
  {
   "cell_type": "code",
   "execution_count": 29,
   "id": "3c548d07",
   "metadata": {},
   "outputs": [
    {
     "data": {
      "text/plain": [
       "6.9089939420776325"
      ]
     },
     "execution_count": 29,
     "metadata": {},
     "output_type": "execute_result"
    }
   ],
   "source": [
    "#Median of Return Levels\n",
    "Q_med=samples_para[\"RL_\"+str(p)].median()\n",
    "Q_med"
   ]
  },
  {
   "cell_type": "code",
   "execution_count": null,
   "id": "9acba341",
   "metadata": {},
   "outputs": [],
   "source": []
  },
  {
   "cell_type": "code",
   "execution_count": 30,
   "id": "5c49bd32",
   "metadata": {},
   "outputs": [
    {
     "name": "stdout",
     "output_type": "stream",
     "text": [
      "8.650880319688488\n"
     ]
    },
    {
     "data": {
      "text/html": [
       "<div>\n",
       "<style scoped>\n",
       "    .dataframe tbody tr th:only-of-type {\n",
       "        vertical-align: middle;\n",
       "    }\n",
       "\n",
       "    .dataframe tbody tr th {\n",
       "        vertical-align: top;\n",
       "    }\n",
       "\n",
       "    .dataframe thead th {\n",
       "        text-align: right;\n",
       "    }\n",
       "</style>\n",
       "<table border=\"1\" class=\"dataframe\">\n",
       "  <thead>\n",
       "    <tr style=\"text-align: right;\">\n",
       "      <th></th>\n",
       "      <th>coef</th>\n",
       "      <th>value</th>\n",
       "    </tr>\n",
       "  </thead>\n",
       "  <tbody>\n",
       "    <tr>\n",
       "      <th>0</th>\n",
       "      <td>0</td>\n",
       "      <td>-0.399178</td>\n",
       "    </tr>\n",
       "    <tr>\n",
       "      <th>1</th>\n",
       "      <td>0</td>\n",
       "      <td>-2.569723</td>\n",
       "    </tr>\n",
       "    <tr>\n",
       "      <th>2</th>\n",
       "      <td>0</td>\n",
       "      <td>-1.351611</td>\n",
       "    </tr>\n",
       "    <tr>\n",
       "      <th>3</th>\n",
       "      <td>0</td>\n",
       "      <td>0.913162</td>\n",
       "    </tr>\n",
       "    <tr>\n",
       "      <th>4</th>\n",
       "      <td>0</td>\n",
       "      <td>-1.971993</td>\n",
       "    </tr>\n",
       "    <tr>\n",
       "      <th>...</th>\n",
       "      <td>...</td>\n",
       "      <td>...</td>\n",
       "    </tr>\n",
       "    <tr>\n",
       "      <th>9999995</th>\n",
       "      <td>999</td>\n",
       "      <td>-0.755994</td>\n",
       "    </tr>\n",
       "    <tr>\n",
       "      <th>9999996</th>\n",
       "      <td>999</td>\n",
       "      <td>0.607142</td>\n",
       "    </tr>\n",
       "    <tr>\n",
       "      <th>9999997</th>\n",
       "      <td>999</td>\n",
       "      <td>2.987700</td>\n",
       "    </tr>\n",
       "    <tr>\n",
       "      <th>9999998</th>\n",
       "      <td>999</td>\n",
       "      <td>0.566338</td>\n",
       "    </tr>\n",
       "    <tr>\n",
       "      <th>9999999</th>\n",
       "      <td>999</td>\n",
       "      <td>0.144058</td>\n",
       "    </tr>\n",
       "  </tbody>\n",
       "</table>\n",
       "<p>10000000 rows × 2 columns</p>\n",
       "</div>"
      ],
      "text/plain": [
       "         coef     value\n",
       "0           0 -0.399178\n",
       "1           0 -2.569723\n",
       "2           0 -1.351611\n",
       "3           0  0.913162\n",
       "4           0 -1.971993\n",
       "...       ...       ...\n",
       "9999995   999 -0.755994\n",
       "9999996   999  0.607142\n",
       "9999997   999  2.987700\n",
       "9999998   999  0.566338\n",
       "9999999   999  0.144058\n",
       "\n",
       "[10000000 rows x 2 columns]"
      ]
     },
     "execution_count": 30,
     "metadata": {},
     "output_type": "execute_result"
    }
   ],
   "source": [
    "\n",
    "#Predictive sampling\n",
    "if not os.path.exists((pathFig+\"tirages_pred_Toymodele.nc\") ):\n",
    "    law_coef_bay   = xr.DataArray( np.zeros( (tirage_para,tirage_pred) ) ,\n",
    "                                  coords = [ range(tirage_para) ,range(tirage_pred)  ] ,\n",
    "                                  dims = [\"coef\",\"Tirage\"] )\n",
    "    for i in range(tirage_para):\n",
    "        s=samples_para.iloc[i,0:3].values\n",
    "        law_coef_bay.loc[i,:]=sc.genextreme.rvs( c=-s[2],loc=s[0],\n",
    "                            scale=s[1],size=tirage_pred)\n",
    "    law_coef_bay.to_netcdf(pathFig+\"tirages_pred_Toymodele.nc\")\n",
    "law_coef_bay=xr.open_dataarray(pathFig+\"tirages_pred_Toymodele.nc\")\n",
    "#Tirages pred\n",
    "data_theta=law_coef_bay.to_pandas().T.melt()\n",
    "\n",
    "pred_estim=np.quantile(data_theta['value'],1-p)\n",
    "print(pred_estim)\n",
    "data_theta"
   ]
  },
  {
   "cell_type": "code",
   "execution_count": 31,
   "id": "6bb8a7b3",
   "metadata": {},
   "outputs": [],
   "source": [
    "xmin=data_theta.min().value\n",
    "xmax=data_theta.max().value\n",
    "ymin=0\n",
    "ymax=0.35\n",
    "\n",
    "pal = sns.color_palette('deep')\n",
    "\n",
    "x = np.linspace(xmin, xmax,num=500)"
   ]
  },
  {
   "cell_type": "code",
   "execution_count": null,
   "id": "5a0b26a3",
   "metadata": {},
   "outputs": [],
   "source": []
  },
  {
   "cell_type": "code",
   "execution_count": null,
   "id": "11d4b916",
   "metadata": {},
   "outputs": [],
   "source": []
  },
  {
   "cell_type": "code",
   "execution_count": null,
   "id": "e74ef0ad",
   "metadata": {},
   "outputs": [],
   "source": []
  },
  {
   "cell_type": "code",
   "execution_count": null,
   "id": "0ee2cfe1",
   "metadata": {},
   "outputs": [],
   "source": []
  },
  {
   "cell_type": "code",
   "execution_count": 32,
   "id": "2e1307ff",
   "metadata": {},
   "outputs": [
    {
     "name": "stderr",
     "output_type": "stream",
     "text": [
      "/tmp/ipykernel_60532/727457254.py:34: FutureWarning: Series.__getitem__ treating keys as positions is deprecated. In a future version, integer keys will always be treated as labels (consistent with DataFrame behavior). To access a value by position, use `ser.iloc[pos]`\n",
      "  val_BE=sc.genextreme.pdf( c=-theta_be[2],loc=theta_be[0],scale=theta_be[1],x=x)\n",
      "/tmp/ipykernel_60532/727457254.py:35: FutureWarning: Series.__getitem__ treating keys as positions is deprecated. In a future version, integer keys will always be treated as labels (consistent with DataFrame behavior). To access a value by position, use `ser.iloc[pos]`\n",
      "  val_BE_cdf=sc.genextreme.cdf( c=-theta_be[2],loc=theta_be[0],\n",
      "/tmp/ipykernel_60532/727457254.py:36: FutureWarning: Series.__getitem__ treating keys as positions is deprecated. In a future version, integer keys will always be treated as labels (consistent with DataFrame behavior). To access a value by position, use `ser.iloc[pos]`\n",
      "  scale=theta_be[1],x=x)\n"
     ]
    }
   ],
   "source": [
    "#multidimensionnal Median for parameters\n",
    "#https://stackoverflow.com/questions/30299267/geometric-median-of-multidimensional-points\n",
    "import numpy as np\n",
    "from scipy.spatial.distance import cdist, euclidean\n",
    "\n",
    "def geometric_median(X, eps=1e-5):\n",
    "    y = np.mean(X, 0)\n",
    "\n",
    "    while True:\n",
    "        D = cdist(X, [y])\n",
    "        nonzeros = (D != 0)[:, 0]\n",
    "\n",
    "        Dinv = 1 / D[nonzeros]\n",
    "        Dinvs = np.sum(Dinv)\n",
    "        W = Dinv / Dinvs\n",
    "        T = np.sum(W * X[nonzeros], 0)\n",
    "\n",
    "        num_zeros = len(X) - np.sum(nonzeros)\n",
    "        if num_zeros == 0:\n",
    "            y1 = T\n",
    "        elif num_zeros == len(X):\n",
    "            return y\n",
    "        else:\n",
    "            R = (T - y) * Dinvs\n",
    "            r = np.linalg.norm(R)\n",
    "            rinv = 0 if r == 0 else num_zeros/r\n",
    "            y1 = max(0, 1-rinv)*T + min(1, rinv)*y\n",
    "\n",
    "        if euclidean(y, y1) < eps:\n",
    "            return y1\n",
    "\n",
    "        y = y1\n",
    "theta_be=geometric_median(samples_para.iloc[:,0:3], eps=1e-5)\n",
    "val_BE=sc.genextreme.pdf( c=-theta_be[2],loc=theta_be[0],scale=theta_be[1],x=x)\n",
    "val_BE_cdf=sc.genextreme.cdf( c=-theta_be[2],loc=theta_be[0],\n",
    "                            scale=theta_be[1],x=x)\n",
    "Q_BE=RLP(p,theta_be[\"mu\"],theta_be[\"sigma\"],theta_be[\"xi\"])"
   ]
  },
  {
   "cell_type": "code",
   "execution_count": 33,
   "id": "4942a191",
   "metadata": {},
   "outputs": [
    {
     "data": {
      "image/png": "[encoded data removed]",
      "text/plain": [
       "<Figure size 800x1300 with 4 Axes>"
      ]
     },
     "metadata": {},
     "output_type": "display_data"
    }
   ],
   "source": [
    "\n",
    "#Figure 2\n",
    "#custom_params = {\"axes.spines.bottom\": True,\"axes.spines.right\": True,\"axes.spines.left\": True, \"axes.spines.top\":True}\n",
    "#sns.set_theme(style=\"whitegrid\",palette='crest',rc=custom_params)\n",
    "sns.set_palette('crest')  \n",
    "ofile=os.path.join(  pathFig+\"Figure2.pdf\" )\n",
    "pdf= mpdf.PdfPages( ofile )\n",
    "fig = plt.figure( figsize = (8,13) )\n",
    "#sns.set_context(\"talk\")\n",
    "\n",
    "#All sample\n",
    "ax = fig.add_subplot( 3 ,1 ,  1 )\n",
    "\n",
    "\n",
    "samples_select_2=np.unique(data_theta['coef'])\n",
    "for s in samples_select_2:\n",
    "    theta_sample=samples_para.iloc[s,0:3].values\n",
    "    val_sample=sc.genextreme.pdf( c=-theta_sample[2],loc=theta_sample[0],\n",
    "                            scale=theta_sample[1],x=x)\n",
    "    ax2=plt.plot(x, val_sample)\n",
    "##add estimation be and ic   \n",
    "plt.axvline(x=Q_low,color=\"black\")\n",
    "plt.text(Q_low, 0.255, '$z_p^{0.05}$ ',color=\"black\",ha='right')\n",
    "plt.axvline(x=Q_up,color=\"black\")\n",
    "plt.text(Q_up, 0.255, ' $z_p^{0.95}$',color=\"black\")\n",
    "#plt.vlines(x=Q_med, ymin=0, ymax=0.155,color='#4c72b0')\n",
    "plt.axvline(x=Q_med,color='#4c72b0')\n",
    "plt.text(Q_med, 0.255, ' $z_p^{0.5}$',color='#4c72b0')\n",
    "\n",
    "frame1 = plt.gca()\n",
    "frame1.axes.set(ylabel=\"Density\")\n",
    "frame1.axes.set(xlim=(xmin, xmax))\n",
    "frame1.axes.set(ylim=(0, 0.3))\n",
    "frame1.axes.set(xticklabels=[])\n",
    "frame1.axes.set(xlabel=None)\n",
    "ax.xaxis.set_major_locator(MultipleLocator(5))\n",
    "ax.xaxis.set_minor_locator(MultipleLocator(1))\n",
    "ax.yaxis.set_major_locator(MultipleLocator(0.1))\n",
    "ax.yaxis.set_minor_locator(MultipleLocator(0.05))\n",
    "for axis in ['top','bottom','left','right']:\n",
    "    ax.spines[axis].set_linewidth(0.5)\n",
    "plt.grid(alpha=0.3)    \n",
    "#BE et predictive\n",
    "ax = fig.add_subplot( 3 ,1 ,  2 )\n",
    "sns.kdeplot(data=data_theta, x='value',\n",
    "            color='#dd1c77', cut=0, fill=True, common_norm=False,\n",
    "            alpha=0.5,legend=True,label=\"Predictive distribution\")\n",
    "ax2=plt.plot(x, val_BE,color='#4c72b0')\n",
    "plt.fill_between(x,val_BE,alpha=0.5,color='#4c72b0',label=\"$GEV(\\\\theta^{BE})$\")\n",
    "##Add estim\n",
    "plt.axvline(x=Q_BE,color='#4c72b0')\n",
    "plt.text(Q_BE, 0.155, '$z_p( \\\\theta^{BE})$ ',color='#4c72b0',ha='right')\n",
    "##add estim\n",
    "plt.axvline(x=pred_estim,color='#dd1c77')\n",
    "plt.text(pred_estim, 0.155, ' $z_p^{pred}$',color='#dd1c77')\n",
    "frame1 = plt.gca()\n",
    "frame1.axes.set(xlim=(xmin, xmax))\n",
    "frame1.axes.set(xticklabels=[])\n",
    "frame1.axes.set(ylim=(0, 0.3))\n",
    "frame1.axes.set(xlabel=None)\n",
    "ax.xaxis.set_major_locator(MultipleLocator(5))\n",
    "ax.xaxis.set_minor_locator(MultipleLocator(1))\n",
    "ax.yaxis.set_major_locator(MultipleLocator(0.1))\n",
    "ax.yaxis.set_minor_locator(MultipleLocator(0.05))\n",
    "\n",
    "for axis in ['top','bottom','left','right']:\n",
    "    ax.spines[axis].set_linewidth(0.5)\n",
    "plt.grid(alpha=0.3)    \n",
    "ax.legend( ncol=2,bbox_to_anchor=(0.85, 2.6))\n",
    "\n",
    "#Zoom BE et predicitve\n",
    "ax = fig.add_subplot( 3 ,1 ,  3 )\n",
    "\n",
    "sns.kdeplot(data=data_theta, x='value',\n",
    "            color='#dd1c77', cut=0, fill=True, common_norm=False,\n",
    "            alpha=0.5,legend=True,label=\"Predictive distribution\",cumulative=True)\n",
    "ax2=plt.plot(x, val_BE_cdf,color='#4c72b0')\n",
    "plt.fill_between(x,val_BE_cdf,alpha=0.5,color='#4c72b0',label=\"$GEV(\\\\theta^{BE})$\")\n",
    "##Add estim\n",
    "plt.axvline(x=Q_BE,color='#4c72b0')\n",
    "plt.text(Q_BE, 0.155, '$z_p( \\\\theta^{BE})$ ',color='#4c72b0',ha='right')\n",
    "##add estim\n",
    "plt.axvline(x=pred_estim,color='#dd1c77')\n",
    "plt.text(pred_estim, 0.155, ' $z_p^{pred}$',color='#dd1c77')\n",
    "frame1 = plt.gca()\n",
    "frame1.axes.set(xlim=(xmin, xmax))\n",
    "\n",
    "frame1.axes.set(ylim=(0,1))\n",
    "ax.xaxis.set_major_locator(MultipleLocator(5))\n",
    "ax.xaxis.set_minor_locator(MultipleLocator(1))\n",
    "ax.yaxis.set_major_locator(MultipleLocator(0.25))\n",
    "ax.yaxis.set_minor_locator(MultipleLocator(0.5))\n",
    "ax.set(ylabel=\"CDF\")\n",
    "for axis in ['top','bottom','left','right']:\n",
    "    ax.spines[axis].set_linewidth(0.5)\n",
    "plt.grid(alpha=0.3)\n",
    "\n",
    "\n",
    "axins = inset_axes(ax, width=\"60%\", height=\"80%\",\n",
    "                   bbox_to_anchor=(0.35, -1.3, 1, 1),\n",
    "                   bbox_transform=ax.transAxes, loc=2, borderpad=0)\n",
    "\n",
    "sns.kdeplot(data=data_theta, x='value',color='#dd1c77',\n",
    "            cut=0, fill=True, common_norm=False, alpha=0.5,legend=True,label=\"Prédictive\",cumulative=True)\n",
    "ax2=plt.plot(x, val_BE_cdf,color='#4c72b0')\n",
    "plt.fill_between(x,val_BE_cdf,alpha=0.5,color='#4c72b0')\n",
    "#Add estim\n",
    "new_y_min=0.9998\n",
    "hauteur=(new_y_min+1)/2\n",
    "plt.axvline(x=Q_BE,color='#4c72b0')\n",
    "plt.text(Q_BE, hauteur, ' $z_p( \\\\theta^{BE})$ ',color='#4c72b0',ha='right')\n",
    "\n",
    "#add estim\n",
    "plt.axvline(x=pred_estim,color='#dd1c77')\n",
    "plt.text(pred_estim, hauteur, ' $z_p^{pred}$',color='#dd1c77')\n",
    "\n",
    "\n",
    "axins.set(xlim=(5, 12))\n",
    "axins.xaxis.set_major_locator(MultipleLocator(5))\n",
    "axins.xaxis.set_minor_locator(MultipleLocator(1))\n",
    "axins.yaxis.set_major_locator(MultipleLocator(0.0001))\n",
    "axins.yaxis.set_minor_locator(MultipleLocator(0.00005))\n",
    "plt.ticklabel_format(style='sci', axis='y', scilimits=(-2,-2))\n",
    "axins.set(ylim=(new_y_min, 1))\n",
    "axins.set(ylabel=\"CDF\")\n",
    "for axis in ['top','bottom','left','right']:\n",
    "    axins.spines[axis].set_linewidth(0.5)\n",
    "plt.grid(alpha=0.3)\n",
    "mark_inset(ax, axins, loc1=1, loc2=2, fc=\"none\", ec=\"0.5\")\n",
    "\n",
    "\n",
    "\n",
    "plt.show()\n",
    "pdf.savefig(fig, bbox_inches = 'tight')\n",
    "plt.close(fig)\n",
    "pdf.close()"
   ]
  },
  {
   "cell_type": "markdown",
   "id": "5aecca1d",
   "metadata": {},
   "source": [
    "## Illustration for various values of p"
   ]
  },
  {
   "cell_type": "code",
   "execution_count": 34,
   "id": "be2b61a8",
   "metadata": {
    "scrolled": true
   },
   "outputs": [
    {
     "name": "stdout",
     "output_type": "stream",
     "text": [
      "10.0\n",
      "10.471285480508996\n",
      "10.964781961431852\n",
      "11.481536214968829\n",
      "12.02264434617413\n",
      "12.589254117941675\n",
      "13.182567385564074\n",
      "13.803842646028853\n",
      "14.454397707459272\n",
      "15.13561248436208\n",
      "15.848931924611133\n",
      "16.595869074375607\n",
      "17.378008287493753\n",
      "18.197008586099834\n",
      "19.054607179632473\n",
      "19.952623149688797\n",
      "20.892961308540396\n",
      "21.87761623949553\n",
      "22.908676527677724\n",
      "23.9883291901949\n",
      "25.118864315095795\n",
      "26.302679918953814\n",
      "27.542287033381662\n",
      "28.84031503126606\n",
      "30.19951720402016\n",
      "31.622776601683793\n",
      "33.11311214825911\n",
      "34.673685045253166\n",
      "36.30780547701014\n",
      "38.018939632056124\n",
      "39.810717055349734\n",
      "41.68693834703355\n",
      "43.65158322401661\n",
      "45.708818961487516\n",
      "47.86300923226385\n",
      "50.11872336272725\n",
      "52.48074602497726\n",
      "54.954087385762456\n",
      "57.543993733715695\n",
      "60.25595860743578\n",
      "63.09573444801933\n",
      "66.06934480075961\n",
      "69.18309709189363\n",
      "72.44359600749898\n",
      "75.85775750291836\n",
      "79.43282347242814\n",
      "83.17637711026708\n",
      "87.09635899560806\n",
      "91.20108393559097\n",
      "95.49925860214358\n",
      "100.0\n",
      "104.71285480508996\n",
      "109.64781961431851\n",
      "114.81536214968828\n",
      "120.22644346174131\n",
      "125.89254117941675\n",
      "131.82567385564073\n",
      "138.03842646028852\n",
      "144.5439770745928\n",
      "151.3561248436207\n",
      "158.48931924611142\n",
      "165.95869074375597\n",
      "173.78008287493762\n",
      "181.97008586099827\n",
      "190.54607179632484\n",
      "199.52623149688787\n",
      "208.92961308540407\n",
      "218.77616239495518\n",
      "229.08676527677747\n",
      "239.88329190194898\n",
      "251.18864315095823\n",
      "263.02679918953817\n",
      "275.4228703338166\n",
      "288.40315031266056\n",
      "301.9951720402016\n",
      "316.22776601683796\n",
      "331.1311214825911\n",
      "346.73685045253166\n",
      "363.0780547701014\n",
      "380.1893963205613\n",
      "398.1071705534973\n",
      "416.8693834703355\n",
      "436.5158322401661\n",
      "457.0881896148752\n",
      "478.630092322638\n",
      "501.18723362727246\n",
      "524.8074602497722\n",
      "549.5408738576248\n",
      "575.4399373371566\n",
      "602.5595860743581\n",
      "630.957344480193\n",
      "660.6934480075964\n",
      "691.8309709189363\n",
      "724.4359600749906\n",
      "758.5775750291835\n",
      "794.3282347242822\n",
      "831.7637711026708\n",
      "870.9635899560806\n"
     ]
    },
    {
     "name": "stderr",
     "output_type": "stream",
     "text": [
      "/tmp/ipykernel_60532/714187920.py:34: PerformanceWarning: DataFrame is highly fragmented.  This is usually the result of calling `frame.insert` many times, which has poor performance.  Consider joining all columns at once using pd.concat(axis=1) instead. To get a de-fragmented frame, use `newframe = frame.copy()`\n",
      "  samples_para[\"RL_\"+str(p)]=RLP(p,samples_para[\"mu\"],samples_para[\"sigma\"],samples_para[\"xi\"])\n"
     ]
    },
    {
     "name": "stdout",
     "output_type": "stream",
     "text": [
      "912.0108393559096\n"
     ]
    },
    {
     "name": "stderr",
     "output_type": "stream",
     "text": [
      "/tmp/ipykernel_60532/714187920.py:34: PerformanceWarning: DataFrame is highly fragmented.  This is usually the result of calling `frame.insert` many times, which has poor performance.  Consider joining all columns at once using pd.concat(axis=1) instead. To get a de-fragmented frame, use `newframe = frame.copy()`\n",
      "  samples_para[\"RL_\"+str(p)]=RLP(p,samples_para[\"mu\"],samples_para[\"sigma\"],samples_para[\"xi\"])\n"
     ]
    },
    {
     "name": "stdout",
     "output_type": "stream",
     "text": [
      "954.992586021436\n"
     ]
    },
    {
     "name": "stderr",
     "output_type": "stream",
     "text": [
      "/tmp/ipykernel_60532/714187920.py:34: PerformanceWarning: DataFrame is highly fragmented.  This is usually the result of calling `frame.insert` many times, which has poor performance.  Consider joining all columns at once using pd.concat(axis=1) instead. To get a de-fragmented frame, use `newframe = frame.copy()`\n",
      "  samples_para[\"RL_\"+str(p)]=RLP(p,samples_para[\"mu\"],samples_para[\"sigma\"],samples_para[\"xi\"])\n"
     ]
    },
    {
     "name": "stdout",
     "output_type": "stream",
     "text": [
      "1000.0\n"
     ]
    },
    {
     "name": "stderr",
     "output_type": "stream",
     "text": [
      "/tmp/ipykernel_60532/714187920.py:34: PerformanceWarning: DataFrame is highly fragmented.  This is usually the result of calling `frame.insert` many times, which has poor performance.  Consider joining all columns at once using pd.concat(axis=1) instead. To get a de-fragmented frame, use `newframe = frame.copy()`\n",
      "  samples_para[\"RL_\"+str(p)]=RLP(p,samples_para[\"mu\"],samples_para[\"sigma\"],samples_para[\"xi\"])\n"
     ]
    },
    {
     "name": "stdout",
     "output_type": "stream",
     "text": [
      "1047.1285480508996\n"
     ]
    },
    {
     "name": "stderr",
     "output_type": "stream",
     "text": [
      "/tmp/ipykernel_60532/714187920.py:34: PerformanceWarning: DataFrame is highly fragmented.  This is usually the result of calling `frame.insert` many times, which has poor performance.  Consider joining all columns at once using pd.concat(axis=1) instead. To get a de-fragmented frame, use `newframe = frame.copy()`\n",
      "  samples_para[\"RL_\"+str(p)]=RLP(p,samples_para[\"mu\"],samples_para[\"sigma\"],samples_para[\"xi\"])\n"
     ]
    },
    {
     "name": "stdout",
     "output_type": "stream",
     "text": [
      "1096.4781961431852\n"
     ]
    },
    {
     "name": "stderr",
     "output_type": "stream",
     "text": [
      "/tmp/ipykernel_60532/714187920.py:34: PerformanceWarning: DataFrame is highly fragmented.  This is usually the result of calling `frame.insert` many times, which has poor performance.  Consider joining all columns at once using pd.concat(axis=1) instead. To get a de-fragmented frame, use `newframe = frame.copy()`\n",
      "  samples_para[\"RL_\"+str(p)]=RLP(p,samples_para[\"mu\"],samples_para[\"sigma\"],samples_para[\"xi\"])\n"
     ]
    },
    {
     "name": "stdout",
     "output_type": "stream",
     "text": [
      "1148.1536214968828\n"
     ]
    },
    {
     "name": "stderr",
     "output_type": "stream",
     "text": [
      "/tmp/ipykernel_60532/714187920.py:34: PerformanceWarning: DataFrame is highly fragmented.  This is usually the result of calling `frame.insert` many times, which has poor performance.  Consider joining all columns at once using pd.concat(axis=1) instead. To get a de-fragmented frame, use `newframe = frame.copy()`\n",
      "  samples_para[\"RL_\"+str(p)]=RLP(p,samples_para[\"mu\"],samples_para[\"sigma\"],samples_para[\"xi\"])\n"
     ]
    },
    {
     "name": "stdout",
     "output_type": "stream",
     "text": [
      "1202.2644346174131\n"
     ]
    },
    {
     "name": "stderr",
     "output_type": "stream",
     "text": [
      "/tmp/ipykernel_60532/714187920.py:34: PerformanceWarning: DataFrame is highly fragmented.  This is usually the result of calling `frame.insert` many times, which has poor performance.  Consider joining all columns at once using pd.concat(axis=1) instead. To get a de-fragmented frame, use `newframe = frame.copy()`\n",
      "  samples_para[\"RL_\"+str(p)]=RLP(p,samples_para[\"mu\"],samples_para[\"sigma\"],samples_para[\"xi\"])\n"
     ]
    },
    {
     "name": "stdout",
     "output_type": "stream",
     "text": [
      "1258.9254117941675\n"
     ]
    },
    {
     "name": "stderr",
     "output_type": "stream",
     "text": [
      "/tmp/ipykernel_60532/714187920.py:34: PerformanceWarning: DataFrame is highly fragmented.  This is usually the result of calling `frame.insert` many times, which has poor performance.  Consider joining all columns at once using pd.concat(axis=1) instead. To get a de-fragmented frame, use `newframe = frame.copy()`\n",
      "  samples_para[\"RL_\"+str(p)]=RLP(p,samples_para[\"mu\"],samples_para[\"sigma\"],samples_para[\"xi\"])\n"
     ]
    },
    {
     "name": "stdout",
     "output_type": "stream",
     "text": [
      "1318.2567385564075\n"
     ]
    },
    {
     "name": "stderr",
     "output_type": "stream",
     "text": [
      "/tmp/ipykernel_60532/714187920.py:34: PerformanceWarning: DataFrame is highly fragmented.  This is usually the result of calling `frame.insert` many times, which has poor performance.  Consider joining all columns at once using pd.concat(axis=1) instead. To get a de-fragmented frame, use `newframe = frame.copy()`\n",
      "  samples_para[\"RL_\"+str(p)]=RLP(p,samples_para[\"mu\"],samples_para[\"sigma\"],samples_para[\"xi\"])\n"
     ]
    },
    {
     "name": "stdout",
     "output_type": "stream",
     "text": [
      "1380.3842646028852\n"
     ]
    },
    {
     "name": "stderr",
     "output_type": "stream",
     "text": [
      "/tmp/ipykernel_60532/714187920.py:34: PerformanceWarning: DataFrame is highly fragmented.  This is usually the result of calling `frame.insert` many times, which has poor performance.  Consider joining all columns at once using pd.concat(axis=1) instead. To get a de-fragmented frame, use `newframe = frame.copy()`\n",
      "  samples_para[\"RL_\"+str(p)]=RLP(p,samples_para[\"mu\"],samples_para[\"sigma\"],samples_para[\"xi\"])\n"
     ]
    },
    {
     "name": "stdout",
     "output_type": "stream",
     "text": [
      "1445.439770745928\n"
     ]
    },
    {
     "name": "stderr",
     "output_type": "stream",
     "text": [
      "/tmp/ipykernel_60532/714187920.py:34: PerformanceWarning: DataFrame is highly fragmented.  This is usually the result of calling `frame.insert` many times, which has poor performance.  Consider joining all columns at once using pd.concat(axis=1) instead. To get a de-fragmented frame, use `newframe = frame.copy()`\n",
      "  samples_para[\"RL_\"+str(p)]=RLP(p,samples_para[\"mu\"],samples_para[\"sigma\"],samples_para[\"xi\"])\n"
     ]
    },
    {
     "name": "stdout",
     "output_type": "stream",
     "text": [
      "1513.5612484362086\n"
     ]
    },
    {
     "name": "stderr",
     "output_type": "stream",
     "text": [
      "/tmp/ipykernel_60532/714187920.py:34: PerformanceWarning: DataFrame is highly fragmented.  This is usually the result of calling `frame.insert` many times, which has poor performance.  Consider joining all columns at once using pd.concat(axis=1) instead. To get a de-fragmented frame, use `newframe = frame.copy()`\n",
      "  samples_para[\"RL_\"+str(p)]=RLP(p,samples_para[\"mu\"],samples_para[\"sigma\"],samples_para[\"xi\"])\n"
     ]
    },
    {
     "name": "stdout",
     "output_type": "stream",
     "text": [
      "1584.893192461114\n"
     ]
    },
    {
     "name": "stderr",
     "output_type": "stream",
     "text": [
      "/tmp/ipykernel_60532/714187920.py:34: PerformanceWarning: DataFrame is highly fragmented.  This is usually the result of calling `frame.insert` many times, which has poor performance.  Consider joining all columns at once using pd.concat(axis=1) instead. To get a de-fragmented frame, use `newframe = frame.copy()`\n",
      "  samples_para[\"RL_\"+str(p)]=RLP(p,samples_para[\"mu\"],samples_para[\"sigma\"],samples_para[\"xi\"])\n"
     ]
    },
    {
     "name": "stdout",
     "output_type": "stream",
     "text": [
      "1659.5869074375614\n"
     ]
    },
    {
     "name": "stderr",
     "output_type": "stream",
     "text": [
      "/tmp/ipykernel_60532/714187920.py:34: PerformanceWarning: DataFrame is highly fragmented.  This is usually the result of calling `frame.insert` many times, which has poor performance.  Consider joining all columns at once using pd.concat(axis=1) instead. To get a de-fragmented frame, use `newframe = frame.copy()`\n",
      "  samples_para[\"RL_\"+str(p)]=RLP(p,samples_para[\"mu\"],samples_para[\"sigma\"],samples_para[\"xi\"])\n"
     ]
    },
    {
     "name": "stdout",
     "output_type": "stream",
     "text": [
      "1737.8008287493763\n"
     ]
    },
    {
     "name": "stderr",
     "output_type": "stream",
     "text": [
      "/tmp/ipykernel_60532/714187920.py:34: PerformanceWarning: DataFrame is highly fragmented.  This is usually the result of calling `frame.insert` many times, which has poor performance.  Consider joining all columns at once using pd.concat(axis=1) instead. To get a de-fragmented frame, use `newframe = frame.copy()`\n",
      "  samples_para[\"RL_\"+str(p)]=RLP(p,samples_para[\"mu\"],samples_para[\"sigma\"],samples_para[\"xi\"])\n"
     ]
    },
    {
     "name": "stdout",
     "output_type": "stream",
     "text": [
      "1819.7008586099844\n"
     ]
    },
    {
     "name": "stderr",
     "output_type": "stream",
     "text": [
      "/tmp/ipykernel_60532/714187920.py:34: PerformanceWarning: DataFrame is highly fragmented.  This is usually the result of calling `frame.insert` many times, which has poor performance.  Consider joining all columns at once using pd.concat(axis=1) instead. To get a de-fragmented frame, use `newframe = frame.copy()`\n",
      "  samples_para[\"RL_\"+str(p)]=RLP(p,samples_para[\"mu\"],samples_para[\"sigma\"],samples_para[\"xi\"])\n"
     ]
    },
    {
     "name": "stdout",
     "output_type": "stream",
     "text": [
      "1905.4607179632483\n"
     ]
    },
    {
     "name": "stderr",
     "output_type": "stream",
     "text": [
      "/tmp/ipykernel_60532/714187920.py:34: PerformanceWarning: DataFrame is highly fragmented.  This is usually the result of calling `frame.insert` many times, which has poor performance.  Consider joining all columns at once using pd.concat(axis=1) instead. To get a de-fragmented frame, use `newframe = frame.copy()`\n",
      "  samples_para[\"RL_\"+str(p)]=RLP(p,samples_para[\"mu\"],samples_para[\"sigma\"],samples_para[\"xi\"])\n"
     ]
    },
    {
     "name": "stdout",
     "output_type": "stream",
     "text": [
      "1995.262314968881\n"
     ]
    },
    {
     "name": "stderr",
     "output_type": "stream",
     "text": [
      "/tmp/ipykernel_60532/714187920.py:34: PerformanceWarning: DataFrame is highly fragmented.  This is usually the result of calling `frame.insert` many times, which has poor performance.  Consider joining all columns at once using pd.concat(axis=1) instead. To get a de-fragmented frame, use `newframe = frame.copy()`\n",
      "  samples_para[\"RL_\"+str(p)]=RLP(p,samples_para[\"mu\"],samples_para[\"sigma\"],samples_para[\"xi\"])\n"
     ]
    },
    {
     "name": "stdout",
     "output_type": "stream",
     "text": [
      "2089.296130854039\n"
     ]
    },
    {
     "name": "stderr",
     "output_type": "stream",
     "text": [
      "/tmp/ipykernel_60532/714187920.py:34: PerformanceWarning: DataFrame is highly fragmented.  This is usually the result of calling `frame.insert` many times, which has poor performance.  Consider joining all columns at once using pd.concat(axis=1) instead. To get a de-fragmented frame, use `newframe = frame.copy()`\n",
      "  samples_para[\"RL_\"+str(p)]=RLP(p,samples_para[\"mu\"],samples_para[\"sigma\"],samples_para[\"xi\"])\n"
     ]
    },
    {
     "name": "stdout",
     "output_type": "stream",
     "text": [
      "2187.761623949552\n"
     ]
    },
    {
     "name": "stderr",
     "output_type": "stream",
     "text": [
      "/tmp/ipykernel_60532/714187920.py:34: PerformanceWarning: DataFrame is highly fragmented.  This is usually the result of calling `frame.insert` many times, which has poor performance.  Consider joining all columns at once using pd.concat(axis=1) instead. To get a de-fragmented frame, use `newframe = frame.copy()`\n",
      "  samples_para[\"RL_\"+str(p)]=RLP(p,samples_para[\"mu\"],samples_para[\"sigma\"],samples_para[\"xi\"])\n"
     ]
    },
    {
     "name": "stdout",
     "output_type": "stream",
     "text": [
      "2290.8676527677726\n"
     ]
    },
    {
     "name": "stderr",
     "output_type": "stream",
     "text": [
      "/tmp/ipykernel_60532/714187920.py:34: PerformanceWarning: DataFrame is highly fragmented.  This is usually the result of calling `frame.insert` many times, which has poor performance.  Consider joining all columns at once using pd.concat(axis=1) instead. To get a de-fragmented frame, use `newframe = frame.copy()`\n",
      "  samples_para[\"RL_\"+str(p)]=RLP(p,samples_para[\"mu\"],samples_para[\"sigma\"],samples_para[\"xi\"])\n"
     ]
    },
    {
     "name": "stdout",
     "output_type": "stream",
     "text": [
      "2398.83291901949\n"
     ]
    },
    {
     "name": "stderr",
     "output_type": "stream",
     "text": [
      "/tmp/ipykernel_60532/714187920.py:34: PerformanceWarning: DataFrame is highly fragmented.  This is usually the result of calling `frame.insert` many times, which has poor performance.  Consider joining all columns at once using pd.concat(axis=1) instead. To get a de-fragmented frame, use `newframe = frame.copy()`\n",
      "  samples_para[\"RL_\"+str(p)]=RLP(p,samples_para[\"mu\"],samples_para[\"sigma\"],samples_para[\"xi\"])\n"
     ]
    },
    {
     "name": "stdout",
     "output_type": "stream",
     "text": [
      "2511.88643150958\n"
     ]
    },
    {
     "name": "stderr",
     "output_type": "stream",
     "text": [
      "/tmp/ipykernel_60532/714187920.py:34: PerformanceWarning: DataFrame is highly fragmented.  This is usually the result of calling `frame.insert` many times, which has poor performance.  Consider joining all columns at once using pd.concat(axis=1) instead. To get a de-fragmented frame, use `newframe = frame.copy()`\n",
      "  samples_para[\"RL_\"+str(p)]=RLP(p,samples_para[\"mu\"],samples_para[\"sigma\"],samples_para[\"xi\"])\n"
     ]
    },
    {
     "name": "stdout",
     "output_type": "stream",
     "text": [
      "2630.2679918953813\n"
     ]
    },
    {
     "name": "stderr",
     "output_type": "stream",
     "text": [
      "/tmp/ipykernel_60532/714187920.py:34: PerformanceWarning: DataFrame is highly fragmented.  This is usually the result of calling `frame.insert` many times, which has poor performance.  Consider joining all columns at once using pd.concat(axis=1) instead. To get a de-fragmented frame, use `newframe = frame.copy()`\n",
      "  samples_para[\"RL_\"+str(p)]=RLP(p,samples_para[\"mu\"],samples_para[\"sigma\"],samples_para[\"xi\"])\n"
     ]
    },
    {
     "name": "stdout",
     "output_type": "stream",
     "text": [
      "2754.2287033381663\n"
     ]
    },
    {
     "name": "stderr",
     "output_type": "stream",
     "text": [
      "/tmp/ipykernel_60532/714187920.py:34: PerformanceWarning: DataFrame is highly fragmented.  This is usually the result of calling `frame.insert` many times, which has poor performance.  Consider joining all columns at once using pd.concat(axis=1) instead. To get a de-fragmented frame, use `newframe = frame.copy()`\n",
      "  samples_para[\"RL_\"+str(p)]=RLP(p,samples_para[\"mu\"],samples_para[\"sigma\"],samples_para[\"xi\"])\n"
     ]
    },
    {
     "name": "stdout",
     "output_type": "stream",
     "text": [
      "2884.031503126606\n"
     ]
    },
    {
     "name": "stderr",
     "output_type": "stream",
     "text": [
      "/tmp/ipykernel_60532/714187920.py:34: PerformanceWarning: DataFrame is highly fragmented.  This is usually the result of calling `frame.insert` many times, which has poor performance.  Consider joining all columns at once using pd.concat(axis=1) instead. To get a de-fragmented frame, use `newframe = frame.copy()`\n",
      "  samples_para[\"RL_\"+str(p)]=RLP(p,samples_para[\"mu\"],samples_para[\"sigma\"],samples_para[\"xi\"])\n"
     ]
    },
    {
     "name": "stdout",
     "output_type": "stream",
     "text": [
      "3019.9517204020162\n"
     ]
    },
    {
     "name": "stderr",
     "output_type": "stream",
     "text": [
      "/tmp/ipykernel_60532/714187920.py:34: PerformanceWarning: DataFrame is highly fragmented.  This is usually the result of calling `frame.insert` many times, which has poor performance.  Consider joining all columns at once using pd.concat(axis=1) instead. To get a de-fragmented frame, use `newframe = frame.copy()`\n",
      "  samples_para[\"RL_\"+str(p)]=RLP(p,samples_para[\"mu\"],samples_para[\"sigma\"],samples_para[\"xi\"])\n"
     ]
    },
    {
     "name": "stdout",
     "output_type": "stream",
     "text": [
      "3162.2776601683795\n"
     ]
    },
    {
     "name": "stderr",
     "output_type": "stream",
     "text": [
      "/tmp/ipykernel_60532/714187920.py:34: PerformanceWarning: DataFrame is highly fragmented.  This is usually the result of calling `frame.insert` many times, which has poor performance.  Consider joining all columns at once using pd.concat(axis=1) instead. To get a de-fragmented frame, use `newframe = frame.copy()`\n",
      "  samples_para[\"RL_\"+str(p)]=RLP(p,samples_para[\"mu\"],samples_para[\"sigma\"],samples_para[\"xi\"])\n"
     ]
    },
    {
     "name": "stdout",
     "output_type": "stream",
     "text": [
      "3311.311214825911\n"
     ]
    },
    {
     "name": "stderr",
     "output_type": "stream",
     "text": [
      "/tmp/ipykernel_60532/714187920.py:34: PerformanceWarning: DataFrame is highly fragmented.  This is usually the result of calling `frame.insert` many times, which has poor performance.  Consider joining all columns at once using pd.concat(axis=1) instead. To get a de-fragmented frame, use `newframe = frame.copy()`\n",
      "  samples_para[\"RL_\"+str(p)]=RLP(p,samples_para[\"mu\"],samples_para[\"sigma\"],samples_para[\"xi\"])\n"
     ]
    },
    {
     "name": "stdout",
     "output_type": "stream",
     "text": [
      "3467.368504525317\n"
     ]
    },
    {
     "name": "stderr",
     "output_type": "stream",
     "text": [
      "/tmp/ipykernel_60532/714187920.py:34: PerformanceWarning: DataFrame is highly fragmented.  This is usually the result of calling `frame.insert` many times, which has poor performance.  Consider joining all columns at once using pd.concat(axis=1) instead. To get a de-fragmented frame, use `newframe = frame.copy()`\n",
      "  samples_para[\"RL_\"+str(p)]=RLP(p,samples_para[\"mu\"],samples_para[\"sigma\"],samples_para[\"xi\"])\n"
     ]
    },
    {
     "name": "stdout",
     "output_type": "stream",
     "text": [
      "3630.780547701014\n"
     ]
    },
    {
     "name": "stderr",
     "output_type": "stream",
     "text": [
      "/tmp/ipykernel_60532/714187920.py:34: PerformanceWarning: DataFrame is highly fragmented.  This is usually the result of calling `frame.insert` many times, which has poor performance.  Consider joining all columns at once using pd.concat(axis=1) instead. To get a de-fragmented frame, use `newframe = frame.copy()`\n",
      "  samples_para[\"RL_\"+str(p)]=RLP(p,samples_para[\"mu\"],samples_para[\"sigma\"],samples_para[\"xi\"])\n"
     ]
    },
    {
     "name": "stdout",
     "output_type": "stream",
     "text": [
      "3801.8939632056126\n"
     ]
    },
    {
     "name": "stderr",
     "output_type": "stream",
     "text": [
      "/tmp/ipykernel_60532/714187920.py:34: PerformanceWarning: DataFrame is highly fragmented.  This is usually the result of calling `frame.insert` many times, which has poor performance.  Consider joining all columns at once using pd.concat(axis=1) instead. To get a de-fragmented frame, use `newframe = frame.copy()`\n",
      "  samples_para[\"RL_\"+str(p)]=RLP(p,samples_para[\"mu\"],samples_para[\"sigma\"],samples_para[\"xi\"])\n"
     ]
    },
    {
     "name": "stdout",
     "output_type": "stream",
     "text": [
      "3981.0717055349733\n"
     ]
    },
    {
     "name": "stderr",
     "output_type": "stream",
     "text": [
      "/tmp/ipykernel_60532/714187920.py:34: PerformanceWarning: DataFrame is highly fragmented.  This is usually the result of calling `frame.insert` many times, which has poor performance.  Consider joining all columns at once using pd.concat(axis=1) instead. To get a de-fragmented frame, use `newframe = frame.copy()`\n",
      "  samples_para[\"RL_\"+str(p)]=RLP(p,samples_para[\"mu\"],samples_para[\"sigma\"],samples_para[\"xi\"])\n"
     ]
    },
    {
     "name": "stdout",
     "output_type": "stream",
     "text": [
      "4168.693834703355\n"
     ]
    },
    {
     "name": "stderr",
     "output_type": "stream",
     "text": [
      "/tmp/ipykernel_60532/714187920.py:34: PerformanceWarning: DataFrame is highly fragmented.  This is usually the result of calling `frame.insert` many times, which has poor performance.  Consider joining all columns at once using pd.concat(axis=1) instead. To get a de-fragmented frame, use `newframe = frame.copy()`\n",
      "  samples_para[\"RL_\"+str(p)]=RLP(p,samples_para[\"mu\"],samples_para[\"sigma\"],samples_para[\"xi\"])\n"
     ]
    },
    {
     "name": "stdout",
     "output_type": "stream",
     "text": [
      "4365.158322401661\n"
     ]
    },
    {
     "name": "stderr",
     "output_type": "stream",
     "text": [
      "/tmp/ipykernel_60532/714187920.py:34: PerformanceWarning: DataFrame is highly fragmented.  This is usually the result of calling `frame.insert` many times, which has poor performance.  Consider joining all columns at once using pd.concat(axis=1) instead. To get a de-fragmented frame, use `newframe = frame.copy()`\n",
      "  samples_para[\"RL_\"+str(p)]=RLP(p,samples_para[\"mu\"],samples_para[\"sigma\"],samples_para[\"xi\"])\n"
     ]
    },
    {
     "name": "stdout",
     "output_type": "stream",
     "text": [
      "4570.881896148751\n"
     ]
    },
    {
     "name": "stderr",
     "output_type": "stream",
     "text": [
      "/tmp/ipykernel_60532/714187920.py:34: PerformanceWarning: DataFrame is highly fragmented.  This is usually the result of calling `frame.insert` many times, which has poor performance.  Consider joining all columns at once using pd.concat(axis=1) instead. To get a de-fragmented frame, use `newframe = frame.copy()`\n",
      "  samples_para[\"RL_\"+str(p)]=RLP(p,samples_para[\"mu\"],samples_para[\"sigma\"],samples_para[\"xi\"])\n"
     ]
    },
    {
     "name": "stdout",
     "output_type": "stream",
     "text": [
      "4786.300923226385\n"
     ]
    },
    {
     "name": "stderr",
     "output_type": "stream",
     "text": [
      "/tmp/ipykernel_60532/714187920.py:34: PerformanceWarning: DataFrame is highly fragmented.  This is usually the result of calling `frame.insert` many times, which has poor performance.  Consider joining all columns at once using pd.concat(axis=1) instead. To get a de-fragmented frame, use `newframe = frame.copy()`\n",
      "  samples_para[\"RL_\"+str(p)]=RLP(p,samples_para[\"mu\"],samples_para[\"sigma\"],samples_para[\"xi\"])\n"
     ]
    },
    {
     "name": "stdout",
     "output_type": "stream",
     "text": [
      "5011.872336272725\n"
     ]
    },
    {
     "name": "stderr",
     "output_type": "stream",
     "text": [
      "/tmp/ipykernel_60532/714187920.py:34: PerformanceWarning: DataFrame is highly fragmented.  This is usually the result of calling `frame.insert` many times, which has poor performance.  Consider joining all columns at once using pd.concat(axis=1) instead. To get a de-fragmented frame, use `newframe = frame.copy()`\n",
      "  samples_para[\"RL_\"+str(p)]=RLP(p,samples_para[\"mu\"],samples_para[\"sigma\"],samples_para[\"xi\"])\n"
     ]
    },
    {
     "name": "stdout",
     "output_type": "stream",
     "text": [
      "5248.074602497728\n"
     ]
    },
    {
     "name": "stderr",
     "output_type": "stream",
     "text": [
      "/tmp/ipykernel_60532/714187920.py:34: PerformanceWarning: DataFrame is highly fragmented.  This is usually the result of calling `frame.insert` many times, which has poor performance.  Consider joining all columns at once using pd.concat(axis=1) instead. To get a de-fragmented frame, use `newframe = frame.copy()`\n",
      "  samples_para[\"RL_\"+str(p)]=RLP(p,samples_para[\"mu\"],samples_para[\"sigma\"],samples_para[\"xi\"])\n"
     ]
    },
    {
     "name": "stdout",
     "output_type": "stream",
     "text": [
      "5495.408738576249\n"
     ]
    },
    {
     "name": "stderr",
     "output_type": "stream",
     "text": [
      "/tmp/ipykernel_60532/714187920.py:34: PerformanceWarning: DataFrame is highly fragmented.  This is usually the result of calling `frame.insert` many times, which has poor performance.  Consider joining all columns at once using pd.concat(axis=1) instead. To get a de-fragmented frame, use `newframe = frame.copy()`\n",
      "  samples_para[\"RL_\"+str(p)]=RLP(p,samples_para[\"mu\"],samples_para[\"sigma\"],samples_para[\"xi\"])\n"
     ]
    },
    {
     "name": "stdout",
     "output_type": "stream",
     "text": [
      "5754.399373371572\n"
     ]
    },
    {
     "name": "stderr",
     "output_type": "stream",
     "text": [
      "/tmp/ipykernel_60532/714187920.py:34: PerformanceWarning: DataFrame is highly fragmented.  This is usually the result of calling `frame.insert` many times, which has poor performance.  Consider joining all columns at once using pd.concat(axis=1) instead. To get a de-fragmented frame, use `newframe = frame.copy()`\n",
      "  samples_para[\"RL_\"+str(p)]=RLP(p,samples_para[\"mu\"],samples_para[\"sigma\"],samples_para[\"xi\"])\n"
     ]
    },
    {
     "name": "stdout",
     "output_type": "stream",
     "text": [
      "6025.5958607435805\n"
     ]
    },
    {
     "name": "stderr",
     "output_type": "stream",
     "text": [
      "/tmp/ipykernel_60532/714187920.py:34: PerformanceWarning: DataFrame is highly fragmented.  This is usually the result of calling `frame.insert` many times, which has poor performance.  Consider joining all columns at once using pd.concat(axis=1) instead. To get a de-fragmented frame, use `newframe = frame.copy()`\n",
      "  samples_para[\"RL_\"+str(p)]=RLP(p,samples_para[\"mu\"],samples_para[\"sigma\"],samples_para[\"xi\"])\n"
     ]
    },
    {
     "name": "stdout",
     "output_type": "stream",
     "text": [
      "6309.573444801937\n"
     ]
    },
    {
     "name": "stderr",
     "output_type": "stream",
     "text": [
      "/tmp/ipykernel_60532/714187920.py:34: PerformanceWarning: DataFrame is highly fragmented.  This is usually the result of calling `frame.insert` many times, which has poor performance.  Consider joining all columns at once using pd.concat(axis=1) instead. To get a de-fragmented frame, use `newframe = frame.copy()`\n",
      "  samples_para[\"RL_\"+str(p)]=RLP(p,samples_para[\"mu\"],samples_para[\"sigma\"],samples_para[\"xi\"])\n"
     ]
    },
    {
     "name": "stdout",
     "output_type": "stream",
     "text": [
      "6606.934480075957\n"
     ]
    },
    {
     "name": "stderr",
     "output_type": "stream",
     "text": [
      "/tmp/ipykernel_60532/714187920.py:34: PerformanceWarning: DataFrame is highly fragmented.  This is usually the result of calling `frame.insert` many times, which has poor performance.  Consider joining all columns at once using pd.concat(axis=1) instead. To get a de-fragmented frame, use `newframe = frame.copy()`\n",
      "  samples_para[\"RL_\"+str(p)]=RLP(p,samples_para[\"mu\"],samples_para[\"sigma\"],samples_para[\"xi\"])\n"
     ]
    },
    {
     "name": "stdout",
     "output_type": "stream",
     "text": [
      "6918.309709189362\n"
     ]
    },
    {
     "name": "stderr",
     "output_type": "stream",
     "text": [
      "/tmp/ipykernel_60532/714187920.py:34: PerformanceWarning: DataFrame is highly fragmented.  This is usually the result of calling `frame.insert` many times, which has poor performance.  Consider joining all columns at once using pd.concat(axis=1) instead. To get a de-fragmented frame, use `newframe = frame.copy()`\n",
      "  samples_para[\"RL_\"+str(p)]=RLP(p,samples_para[\"mu\"],samples_para[\"sigma\"],samples_para[\"xi\"])\n"
     ]
    },
    {
     "name": "stdout",
     "output_type": "stream",
     "text": [
      "7244.359600749898\n"
     ]
    },
    {
     "name": "stderr",
     "output_type": "stream",
     "text": [
      "/tmp/ipykernel_60532/714187920.py:34: PerformanceWarning: DataFrame is highly fragmented.  This is usually the result of calling `frame.insert` many times, which has poor performance.  Consider joining all columns at once using pd.concat(axis=1) instead. To get a de-fragmented frame, use `newframe = frame.copy()`\n",
      "  samples_para[\"RL_\"+str(p)]=RLP(p,samples_para[\"mu\"],samples_para[\"sigma\"],samples_para[\"xi\"])\n"
     ]
    },
    {
     "name": "stdout",
     "output_type": "stream",
     "text": [
      "7585.775750291836\n"
     ]
    },
    {
     "name": "stderr",
     "output_type": "stream",
     "text": [
      "/tmp/ipykernel_60532/714187920.py:34: PerformanceWarning: DataFrame is highly fragmented.  This is usually the result of calling `frame.insert` many times, which has poor performance.  Consider joining all columns at once using pd.concat(axis=1) instead. To get a de-fragmented frame, use `newframe = frame.copy()`\n",
      "  samples_para[\"RL_\"+str(p)]=RLP(p,samples_para[\"mu\"],samples_para[\"sigma\"],samples_para[\"xi\"])\n"
     ]
    },
    {
     "name": "stdout",
     "output_type": "stream",
     "text": [
      "7943.282347242814\n"
     ]
    },
    {
     "name": "stderr",
     "output_type": "stream",
     "text": [
      "/tmp/ipykernel_60532/714187920.py:34: PerformanceWarning: DataFrame is highly fragmented.  This is usually the result of calling `frame.insert` many times, which has poor performance.  Consider joining all columns at once using pd.concat(axis=1) instead. To get a de-fragmented frame, use `newframe = frame.copy()`\n",
      "  samples_para[\"RL_\"+str(p)]=RLP(p,samples_para[\"mu\"],samples_para[\"sigma\"],samples_para[\"xi\"])\n"
     ]
    },
    {
     "name": "stdout",
     "output_type": "stream",
     "text": [
      "8317.63771102671\n"
     ]
    },
    {
     "name": "stderr",
     "output_type": "stream",
     "text": [
      "/tmp/ipykernel_60532/714187920.py:34: PerformanceWarning: DataFrame is highly fragmented.  This is usually the result of calling `frame.insert` many times, which has poor performance.  Consider joining all columns at once using pd.concat(axis=1) instead. To get a de-fragmented frame, use `newframe = frame.copy()`\n",
      "  samples_para[\"RL_\"+str(p)]=RLP(p,samples_para[\"mu\"],samples_para[\"sigma\"],samples_para[\"xi\"])\n"
     ]
    },
    {
     "name": "stdout",
     "output_type": "stream",
     "text": [
      "8709.635899560806\n"
     ]
    },
    {
     "name": "stderr",
     "output_type": "stream",
     "text": [
      "/tmp/ipykernel_60532/714187920.py:34: PerformanceWarning: DataFrame is highly fragmented.  This is usually the result of calling `frame.insert` many times, which has poor performance.  Consider joining all columns at once using pd.concat(axis=1) instead. To get a de-fragmented frame, use `newframe = frame.copy()`\n",
      "  samples_para[\"RL_\"+str(p)]=RLP(p,samples_para[\"mu\"],samples_para[\"sigma\"],samples_para[\"xi\"])\n"
     ]
    },
    {
     "name": "stdout",
     "output_type": "stream",
     "text": [
      "9120.108393559096\n"
     ]
    },
    {
     "name": "stderr",
     "output_type": "stream",
     "text": [
      "/tmp/ipykernel_60532/714187920.py:34: PerformanceWarning: DataFrame is highly fragmented.  This is usually the result of calling `frame.insert` many times, which has poor performance.  Consider joining all columns at once using pd.concat(axis=1) instead. To get a de-fragmented frame, use `newframe = frame.copy()`\n",
      "  samples_para[\"RL_\"+str(p)]=RLP(p,samples_para[\"mu\"],samples_para[\"sigma\"],samples_para[\"xi\"])\n"
     ]
    },
    {
     "name": "stdout",
     "output_type": "stream",
     "text": [
      "9549.92586021436\n",
      "10000.0\n"
     ]
    },
    {
     "name": "stderr",
     "output_type": "stream",
     "text": [
      "/tmp/ipykernel_60532/714187920.py:34: PerformanceWarning: DataFrame is highly fragmented.  This is usually the result of calling `frame.insert` many times, which has poor performance.  Consider joining all columns at once using pd.concat(axis=1) instead. To get a de-fragmented frame, use `newframe = frame.copy()`\n",
      "  samples_para[\"RL_\"+str(p)]=RLP(p,samples_para[\"mu\"],samples_para[\"sigma\"],samples_para[\"xi\"])\n"
     ]
    },
    {
     "name": "stdout",
     "output_type": "stream",
     "text": [
      "10471.285480508985\n"
     ]
    },
    {
     "name": "stderr",
     "output_type": "stream",
     "text": [
      "/tmp/ipykernel_60532/714187920.py:34: PerformanceWarning: DataFrame is highly fragmented.  This is usually the result of calling `frame.insert` many times, which has poor performance.  Consider joining all columns at once using pd.concat(axis=1) instead. To get a de-fragmented frame, use `newframe = frame.copy()`\n",
      "  samples_para[\"RL_\"+str(p)]=RLP(p,samples_para[\"mu\"],samples_para[\"sigma\"],samples_para[\"xi\"])\n"
     ]
    },
    {
     "name": "stdout",
     "output_type": "stream",
     "text": [
      "10964.78196143185\n"
     ]
    },
    {
     "name": "stderr",
     "output_type": "stream",
     "text": [
      "/tmp/ipykernel_60532/714187920.py:34: PerformanceWarning: DataFrame is highly fragmented.  This is usually the result of calling `frame.insert` many times, which has poor performance.  Consider joining all columns at once using pd.concat(axis=1) instead. To get a de-fragmented frame, use `newframe = frame.copy()`\n",
      "  samples_para[\"RL_\"+str(p)]=RLP(p,samples_para[\"mu\"],samples_para[\"sigma\"],samples_para[\"xi\"])\n"
     ]
    },
    {
     "name": "stdout",
     "output_type": "stream",
     "text": [
      "11481.53621496884\n"
     ]
    },
    {
     "name": "stderr",
     "output_type": "stream",
     "text": [
      "/tmp/ipykernel_60532/714187920.py:34: PerformanceWarning: DataFrame is highly fragmented.  This is usually the result of calling `frame.insert` many times, which has poor performance.  Consider joining all columns at once using pd.concat(axis=1) instead. To get a de-fragmented frame, use `newframe = frame.copy()`\n",
      "  samples_para[\"RL_\"+str(p)]=RLP(p,samples_para[\"mu\"],samples_para[\"sigma\"],samples_para[\"xi\"])\n"
     ]
    },
    {
     "name": "stdout",
     "output_type": "stream",
     "text": [
      "12022.644346174131\n"
     ]
    },
    {
     "name": "stderr",
     "output_type": "stream",
     "text": [
      "/tmp/ipykernel_60532/714187920.py:34: PerformanceWarning: DataFrame is highly fragmented.  This is usually the result of calling `frame.insert` many times, which has poor performance.  Consider joining all columns at once using pd.concat(axis=1) instead. To get a de-fragmented frame, use `newframe = frame.copy()`\n",
      "  samples_para[\"RL_\"+str(p)]=RLP(p,samples_para[\"mu\"],samples_para[\"sigma\"],samples_para[\"xi\"])\n"
     ]
    },
    {
     "name": "stdout",
     "output_type": "stream",
     "text": [
      "12589.254117941662\n"
     ]
    },
    {
     "name": "stderr",
     "output_type": "stream",
     "text": [
      "/tmp/ipykernel_60532/714187920.py:34: PerformanceWarning: DataFrame is highly fragmented.  This is usually the result of calling `frame.insert` many times, which has poor performance.  Consider joining all columns at once using pd.concat(axis=1) instead. To get a de-fragmented frame, use `newframe = frame.copy()`\n",
      "  samples_para[\"RL_\"+str(p)]=RLP(p,samples_para[\"mu\"],samples_para[\"sigma\"],samples_para[\"xi\"])\n"
     ]
    },
    {
     "name": "stdout",
     "output_type": "stream",
     "text": [
      "13182.567385564074\n"
     ]
    },
    {
     "name": "stderr",
     "output_type": "stream",
     "text": [
      "/tmp/ipykernel_60532/714187920.py:34: PerformanceWarning: DataFrame is highly fragmented.  This is usually the result of calling `frame.insert` many times, which has poor performance.  Consider joining all columns at once using pd.concat(axis=1) instead. To get a de-fragmented frame, use `newframe = frame.copy()`\n",
      "  samples_para[\"RL_\"+str(p)]=RLP(p,samples_para[\"mu\"],samples_para[\"sigma\"],samples_para[\"xi\"])\n"
     ]
    },
    {
     "name": "stdout",
     "output_type": "stream",
     "text": [
      "13803.842646028867\n"
     ]
    },
    {
     "name": "stderr",
     "output_type": "stream",
     "text": [
      "/tmp/ipykernel_60532/714187920.py:34: PerformanceWarning: DataFrame is highly fragmented.  This is usually the result of calling `frame.insert` many times, which has poor performance.  Consider joining all columns at once using pd.concat(axis=1) instead. To get a de-fragmented frame, use `newframe = frame.copy()`\n",
      "  samples_para[\"RL_\"+str(p)]=RLP(p,samples_para[\"mu\"],samples_para[\"sigma\"],samples_para[\"xi\"])\n"
     ]
    },
    {
     "name": "stdout",
     "output_type": "stream",
     "text": [
      "14454.39770745928\n"
     ]
    },
    {
     "name": "stderr",
     "output_type": "stream",
     "text": [
      "/tmp/ipykernel_60532/714187920.py:34: PerformanceWarning: DataFrame is highly fragmented.  This is usually the result of calling `frame.insert` many times, which has poor performance.  Consider joining all columns at once using pd.concat(axis=1) instead. To get a de-fragmented frame, use `newframe = frame.copy()`\n",
      "  samples_para[\"RL_\"+str(p)]=RLP(p,samples_para[\"mu\"],samples_para[\"sigma\"],samples_para[\"xi\"])\n"
     ]
    },
    {
     "name": "stdout",
     "output_type": "stream",
     "text": [
      "15135.612484362071\n"
     ]
    },
    {
     "name": "stderr",
     "output_type": "stream",
     "text": [
      "/tmp/ipykernel_60532/714187920.py:34: PerformanceWarning: DataFrame is highly fragmented.  This is usually the result of calling `frame.insert` many times, which has poor performance.  Consider joining all columns at once using pd.concat(axis=1) instead. To get a de-fragmented frame, use `newframe = frame.copy()`\n",
      "  samples_para[\"RL_\"+str(p)]=RLP(p,samples_para[\"mu\"],samples_para[\"sigma\"],samples_para[\"xi\"])\n"
     ]
    },
    {
     "name": "stdout",
     "output_type": "stream",
     "text": [
      "15848.93192461114\n"
     ]
    },
    {
     "name": "stderr",
     "output_type": "stream",
     "text": [
      "/tmp/ipykernel_60532/714187920.py:34: PerformanceWarning: DataFrame is highly fragmented.  This is usually the result of calling `frame.insert` many times, which has poor performance.  Consider joining all columns at once using pd.concat(axis=1) instead. To get a de-fragmented frame, use `newframe = frame.copy()`\n",
      "  samples_para[\"RL_\"+str(p)]=RLP(p,samples_para[\"mu\"],samples_para[\"sigma\"],samples_para[\"xi\"])\n"
     ]
    },
    {
     "name": "stdout",
     "output_type": "stream",
     "text": [
      "16595.86907437563\n"
     ]
    },
    {
     "name": "stderr",
     "output_type": "stream",
     "text": [
      "/tmp/ipykernel_60532/714187920.py:34: PerformanceWarning: DataFrame is highly fragmented.  This is usually the result of calling `frame.insert` many times, which has poor performance.  Consider joining all columns at once using pd.concat(axis=1) instead. To get a de-fragmented frame, use `newframe = frame.copy()`\n",
      "  samples_para[\"RL_\"+str(p)]=RLP(p,samples_para[\"mu\"],samples_para[\"sigma\"],samples_para[\"xi\"])\n"
     ]
    },
    {
     "name": "stdout",
     "output_type": "stream",
     "text": [
      "17378.00828749376\n"
     ]
    },
    {
     "name": "stderr",
     "output_type": "stream",
     "text": [
      "/tmp/ipykernel_60532/714187920.py:34: PerformanceWarning: DataFrame is highly fragmented.  This is usually the result of calling `frame.insert` many times, which has poor performance.  Consider joining all columns at once using pd.concat(axis=1) instead. To get a de-fragmented frame, use `newframe = frame.copy()`\n",
      "  samples_para[\"RL_\"+str(p)]=RLP(p,samples_para[\"mu\"],samples_para[\"sigma\"],samples_para[\"xi\"])\n"
     ]
    },
    {
     "name": "stdout",
     "output_type": "stream",
     "text": [
      "18197.008586099826\n"
     ]
    },
    {
     "name": "stderr",
     "output_type": "stream",
     "text": [
      "/tmp/ipykernel_60532/714187920.py:34: PerformanceWarning: DataFrame is highly fragmented.  This is usually the result of calling `frame.insert` many times, which has poor performance.  Consider joining all columns at once using pd.concat(axis=1) instead. To get a de-fragmented frame, use `newframe = frame.copy()`\n",
      "  samples_para[\"RL_\"+str(p)]=RLP(p,samples_para[\"mu\"],samples_para[\"sigma\"],samples_para[\"xi\"])\n"
     ]
    },
    {
     "name": "stdout",
     "output_type": "stream",
     "text": [
      "19054.607179632483\n"
     ]
    },
    {
     "name": "stderr",
     "output_type": "stream",
     "text": [
      "/tmp/ipykernel_60532/714187920.py:34: PerformanceWarning: DataFrame is highly fragmented.  This is usually the result of calling `frame.insert` many times, which has poor performance.  Consider joining all columns at once using pd.concat(axis=1) instead. To get a de-fragmented frame, use `newframe = frame.copy()`\n",
      "  samples_para[\"RL_\"+str(p)]=RLP(p,samples_para[\"mu\"],samples_para[\"sigma\"],samples_para[\"xi\"])\n"
     ]
    },
    {
     "name": "stdout",
     "output_type": "stream",
     "text": [
      "19952.62314968883\n"
     ]
    },
    {
     "name": "stderr",
     "output_type": "stream",
     "text": [
      "/tmp/ipykernel_60532/714187920.py:34: PerformanceWarning: DataFrame is highly fragmented.  This is usually the result of calling `frame.insert` many times, which has poor performance.  Consider joining all columns at once using pd.concat(axis=1) instead. To get a de-fragmented frame, use `newframe = frame.copy()`\n",
      "  samples_para[\"RL_\"+str(p)]=RLP(p,samples_para[\"mu\"],samples_para[\"sigma\"],samples_para[\"xi\"])\n"
     ]
    },
    {
     "name": "stdout",
     "output_type": "stream",
     "text": [
      "20892.96130854041\n"
     ]
    },
    {
     "name": "stderr",
     "output_type": "stream",
     "text": [
      "/tmp/ipykernel_60532/714187920.py:34: PerformanceWarning: DataFrame is highly fragmented.  This is usually the result of calling `frame.insert` many times, which has poor performance.  Consider joining all columns at once using pd.concat(axis=1) instead. To get a de-fragmented frame, use `newframe = frame.copy()`\n",
      "  samples_para[\"RL_\"+str(p)]=RLP(p,samples_para[\"mu\"],samples_para[\"sigma\"],samples_para[\"xi\"])\n"
     ]
    },
    {
     "name": "stdout",
     "output_type": "stream",
     "text": [
      "21877.616239495517\n"
     ]
    },
    {
     "name": "stderr",
     "output_type": "stream",
     "text": [
      "/tmp/ipykernel_60532/714187920.py:34: PerformanceWarning: DataFrame is highly fragmented.  This is usually the result of calling `frame.insert` many times, which has poor performance.  Consider joining all columns at once using pd.concat(axis=1) instead. To get a de-fragmented frame, use `newframe = frame.copy()`\n",
      "  samples_para[\"RL_\"+str(p)]=RLP(p,samples_para[\"mu\"],samples_para[\"sigma\"],samples_para[\"xi\"])\n"
     ]
    },
    {
     "name": "stdout",
     "output_type": "stream",
     "text": [
      "22908.6765276777\n"
     ]
    },
    {
     "name": "stderr",
     "output_type": "stream",
     "text": [
      "/tmp/ipykernel_60532/714187920.py:34: PerformanceWarning: DataFrame is highly fragmented.  This is usually the result of calling `frame.insert` many times, which has poor performance.  Consider joining all columns at once using pd.concat(axis=1) instead. To get a de-fragmented frame, use `newframe = frame.copy()`\n",
      "  samples_para[\"RL_\"+str(p)]=RLP(p,samples_para[\"mu\"],samples_para[\"sigma\"],samples_para[\"xi\"])\n"
     ]
    },
    {
     "name": "stdout",
     "output_type": "stream",
     "text": [
      "23988.329190194898\n"
     ]
    },
    {
     "name": "stderr",
     "output_type": "stream",
     "text": [
      "/tmp/ipykernel_60532/714187920.py:34: PerformanceWarning: DataFrame is highly fragmented.  This is usually the result of calling `frame.insert` many times, which has poor performance.  Consider joining all columns at once using pd.concat(axis=1) instead. To get a de-fragmented frame, use `newframe = frame.copy()`\n",
      "  samples_para[\"RL_\"+str(p)]=RLP(p,samples_para[\"mu\"],samples_para[\"sigma\"],samples_para[\"xi\"])\n"
     ]
    },
    {
     "name": "stdout",
     "output_type": "stream",
     "text": [
      "25118.864315095823\n"
     ]
    },
    {
     "name": "stderr",
     "output_type": "stream",
     "text": [
      "/tmp/ipykernel_60532/714187920.py:34: PerformanceWarning: DataFrame is highly fragmented.  This is usually the result of calling `frame.insert` many times, which has poor performance.  Consider joining all columns at once using pd.concat(axis=1) instead. To get a de-fragmented frame, use `newframe = frame.copy()`\n",
      "  samples_para[\"RL_\"+str(p)]=RLP(p,samples_para[\"mu\"],samples_para[\"sigma\"],samples_para[\"xi\"])\n"
     ]
    },
    {
     "name": "stdout",
     "output_type": "stream",
     "text": [
      "26302.679918953814\n"
     ]
    },
    {
     "name": "stderr",
     "output_type": "stream",
     "text": [
      "/tmp/ipykernel_60532/714187920.py:34: PerformanceWarning: DataFrame is highly fragmented.  This is usually the result of calling `frame.insert` many times, which has poor performance.  Consider joining all columns at once using pd.concat(axis=1) instead. To get a de-fragmented frame, use `newframe = frame.copy()`\n",
      "  samples_para[\"RL_\"+str(p)]=RLP(p,samples_para[\"mu\"],samples_para[\"sigma\"],samples_para[\"xi\"])\n"
     ]
    },
    {
     "name": "stdout",
     "output_type": "stream",
     "text": [
      "27542.28703338163\n"
     ]
    },
    {
     "name": "stderr",
     "output_type": "stream",
     "text": [
      "/tmp/ipykernel_60532/714187920.py:34: PerformanceWarning: DataFrame is highly fragmented.  This is usually the result of calling `frame.insert` many times, which has poor performance.  Consider joining all columns at once using pd.concat(axis=1) instead. To get a de-fragmented frame, use `newframe = frame.copy()`\n",
      "  samples_para[\"RL_\"+str(p)]=RLP(p,samples_para[\"mu\"],samples_para[\"sigma\"],samples_para[\"xi\"])\n"
     ]
    },
    {
     "name": "stdout",
     "output_type": "stream",
     "text": [
      "28840.31503126606\n"
     ]
    },
    {
     "name": "stderr",
     "output_type": "stream",
     "text": [
      "/tmp/ipykernel_60532/714187920.py:34: PerformanceWarning: DataFrame is highly fragmented.  This is usually the result of calling `frame.insert` many times, which has poor performance.  Consider joining all columns at once using pd.concat(axis=1) instead. To get a de-fragmented frame, use `newframe = frame.copy()`\n",
      "  samples_para[\"RL_\"+str(p)]=RLP(p,samples_para[\"mu\"],samples_para[\"sigma\"],samples_para[\"xi\"])\n"
     ]
    },
    {
     "name": "stdout",
     "output_type": "stream",
     "text": [
      "30199.51720402019\n"
     ]
    },
    {
     "name": "stderr",
     "output_type": "stream",
     "text": [
      "/tmp/ipykernel_60532/714187920.py:34: PerformanceWarning: DataFrame is highly fragmented.  This is usually the result of calling `frame.insert` many times, which has poor performance.  Consider joining all columns at once using pd.concat(axis=1) instead. To get a de-fragmented frame, use `newframe = frame.copy()`\n",
      "  samples_para[\"RL_\"+str(p)]=RLP(p,samples_para[\"mu\"],samples_para[\"sigma\"],samples_para[\"xi\"])\n"
     ]
    },
    {
     "name": "stdout",
     "output_type": "stream",
     "text": [
      "31622.776601683792\n"
     ]
    },
    {
     "name": "stderr",
     "output_type": "stream",
     "text": [
      "/tmp/ipykernel_60532/714187920.py:34: PerformanceWarning: DataFrame is highly fragmented.  This is usually the result of calling `frame.insert` many times, which has poor performance.  Consider joining all columns at once using pd.concat(axis=1) instead. To get a de-fragmented frame, use `newframe = frame.copy()`\n",
      "  samples_para[\"RL_\"+str(p)]=RLP(p,samples_para[\"mu\"],samples_para[\"sigma\"],samples_para[\"xi\"])\n"
     ]
    },
    {
     "name": "stdout",
     "output_type": "stream",
     "text": [
      "33113.112148259075\n"
     ]
    },
    {
     "name": "stderr",
     "output_type": "stream",
     "text": [
      "/tmp/ipykernel_60532/714187920.py:34: PerformanceWarning: DataFrame is highly fragmented.  This is usually the result of calling `frame.insert` many times, which has poor performance.  Consider joining all columns at once using pd.concat(axis=1) instead. To get a de-fragmented frame, use `newframe = frame.copy()`\n",
      "  samples_para[\"RL_\"+str(p)]=RLP(p,samples_para[\"mu\"],samples_para[\"sigma\"],samples_para[\"xi\"])\n"
     ]
    },
    {
     "name": "stdout",
     "output_type": "stream",
     "text": [
      "34673.685045253165\n"
     ]
    },
    {
     "name": "stderr",
     "output_type": "stream",
     "text": [
      "/tmp/ipykernel_60532/714187920.py:34: PerformanceWarning: DataFrame is highly fragmented.  This is usually the result of calling `frame.insert` many times, which has poor performance.  Consider joining all columns at once using pd.concat(axis=1) instead. To get a de-fragmented frame, use `newframe = frame.copy()`\n",
      "  samples_para[\"RL_\"+str(p)]=RLP(p,samples_para[\"mu\"],samples_para[\"sigma\"],samples_para[\"xi\"])\n"
     ]
    },
    {
     "name": "stdout",
     "output_type": "stream",
     "text": [
      "36307.80547701017\n"
     ]
    },
    {
     "name": "stderr",
     "output_type": "stream",
     "text": [
      "/tmp/ipykernel_60532/714187920.py:34: PerformanceWarning: DataFrame is highly fragmented.  This is usually the result of calling `frame.insert` many times, which has poor performance.  Consider joining all columns at once using pd.concat(axis=1) instead. To get a de-fragmented frame, use `newframe = frame.copy()`\n",
      "  samples_para[\"RL_\"+str(p)]=RLP(p,samples_para[\"mu\"],samples_para[\"sigma\"],samples_para[\"xi\"])\n"
     ]
    },
    {
     "name": "stdout",
     "output_type": "stream",
     "text": [
      "38018.93963205613\n"
     ]
    },
    {
     "name": "stderr",
     "output_type": "stream",
     "text": [
      "/tmp/ipykernel_60532/714187920.py:34: PerformanceWarning: DataFrame is highly fragmented.  This is usually the result of calling `frame.insert` many times, which has poor performance.  Consider joining all columns at once using pd.concat(axis=1) instead. To get a de-fragmented frame, use `newframe = frame.copy()`\n",
      "  samples_para[\"RL_\"+str(p)]=RLP(p,samples_para[\"mu\"],samples_para[\"sigma\"],samples_para[\"xi\"])\n"
     ]
    },
    {
     "name": "stdout",
     "output_type": "stream",
     "text": [
      "39810.71705534969\n"
     ]
    },
    {
     "name": "stderr",
     "output_type": "stream",
     "text": [
      "/tmp/ipykernel_60532/714187920.py:34: PerformanceWarning: DataFrame is highly fragmented.  This is usually the result of calling `frame.insert` many times, which has poor performance.  Consider joining all columns at once using pd.concat(axis=1) instead. To get a de-fragmented frame, use `newframe = frame.copy()`\n",
      "  samples_para[\"RL_\"+str(p)]=RLP(p,samples_para[\"mu\"],samples_para[\"sigma\"],samples_para[\"xi\"])\n"
     ]
    },
    {
     "name": "stdout",
     "output_type": "stream",
     "text": [
      "41686.93834703355\n"
     ]
    },
    {
     "name": "stderr",
     "output_type": "stream",
     "text": [
      "/tmp/ipykernel_60532/714187920.py:34: PerformanceWarning: DataFrame is highly fragmented.  This is usually the result of calling `frame.insert` many times, which has poor performance.  Consider joining all columns at once using pd.concat(axis=1) instead. To get a de-fragmented frame, use `newframe = frame.copy()`\n",
      "  samples_para[\"RL_\"+str(p)]=RLP(p,samples_para[\"mu\"],samples_para[\"sigma\"],samples_para[\"xi\"])\n"
     ]
    },
    {
     "name": "stdout",
     "output_type": "stream",
     "text": [
      "43651.58322401666\n"
     ]
    },
    {
     "name": "stderr",
     "output_type": "stream",
     "text": [
      "/tmp/ipykernel_60532/714187920.py:34: PerformanceWarning: DataFrame is highly fragmented.  This is usually the result of calling `frame.insert` many times, which has poor performance.  Consider joining all columns at once using pd.concat(axis=1) instead. To get a de-fragmented frame, use `newframe = frame.copy()`\n",
      "  samples_para[\"RL_\"+str(p)]=RLP(p,samples_para[\"mu\"],samples_para[\"sigma\"],samples_para[\"xi\"])\n"
     ]
    },
    {
     "name": "stdout",
     "output_type": "stream",
     "text": [
      "45708.818961487515\n"
     ]
    },
    {
     "name": "stderr",
     "output_type": "stream",
     "text": [
      "/tmp/ipykernel_60532/714187920.py:34: PerformanceWarning: DataFrame is highly fragmented.  This is usually the result of calling `frame.insert` many times, which has poor performance.  Consider joining all columns at once using pd.concat(axis=1) instead. To get a de-fragmented frame, use `newframe = frame.copy()`\n",
      "  samples_para[\"RL_\"+str(p)]=RLP(p,samples_para[\"mu\"],samples_para[\"sigma\"],samples_para[\"xi\"])\n"
     ]
    },
    {
     "name": "stdout",
     "output_type": "stream",
     "text": [
      "47863.0092322638\n"
     ]
    },
    {
     "name": "stderr",
     "output_type": "stream",
     "text": [
      "/tmp/ipykernel_60532/714187920.py:34: PerformanceWarning: DataFrame is highly fragmented.  This is usually the result of calling `frame.insert` many times, which has poor performance.  Consider joining all columns at once using pd.concat(axis=1) instead. To get a de-fragmented frame, use `newframe = frame.copy()`\n",
      "  samples_para[\"RL_\"+str(p)]=RLP(p,samples_para[\"mu\"],samples_para[\"sigma\"],samples_para[\"xi\"])\n"
     ]
    },
    {
     "name": "stdout",
     "output_type": "stream",
     "text": [
      "50118.72336272725\n"
     ]
    },
    {
     "name": "stderr",
     "output_type": "stream",
     "text": [
      "/tmp/ipykernel_60532/714187920.py:34: PerformanceWarning: DataFrame is highly fragmented.  This is usually the result of calling `frame.insert` many times, which has poor performance.  Consider joining all columns at once using pd.concat(axis=1) instead. To get a de-fragmented frame, use `newframe = frame.copy()`\n",
      "  samples_para[\"RL_\"+str(p)]=RLP(p,samples_para[\"mu\"],samples_para[\"sigma\"],samples_para[\"xi\"])\n"
     ]
    },
    {
     "name": "stdout",
     "output_type": "stream",
     "text": [
      "52480.746024977336\n"
     ]
    },
    {
     "name": "stderr",
     "output_type": "stream",
     "text": [
      "/tmp/ipykernel_60532/714187920.py:34: PerformanceWarning: DataFrame is highly fragmented.  This is usually the result of calling `frame.insert` many times, which has poor performance.  Consider joining all columns at once using pd.concat(axis=1) instead. To get a de-fragmented frame, use `newframe = frame.copy()`\n",
      "  samples_para[\"RL_\"+str(p)]=RLP(p,samples_para[\"mu\"],samples_para[\"sigma\"],samples_para[\"xi\"])\n"
     ]
    },
    {
     "name": "stdout",
     "output_type": "stream",
     "text": [
      "54954.08738576248\n"
     ]
    },
    {
     "name": "stderr",
     "output_type": "stream",
     "text": [
      "/tmp/ipykernel_60532/714187920.py:34: PerformanceWarning: DataFrame is highly fragmented.  This is usually the result of calling `frame.insert` many times, which has poor performance.  Consider joining all columns at once using pd.concat(axis=1) instead. To get a de-fragmented frame, use `newframe = frame.copy()`\n",
      "  samples_para[\"RL_\"+str(p)]=RLP(p,samples_para[\"mu\"],samples_para[\"sigma\"],samples_para[\"xi\"])\n"
     ]
    },
    {
     "name": "stdout",
     "output_type": "stream",
     "text": [
      "57543.993733715666\n"
     ]
    },
    {
     "name": "stderr",
     "output_type": "stream",
     "text": [
      "/tmp/ipykernel_60532/714187920.py:34: PerformanceWarning: DataFrame is highly fragmented.  This is usually the result of calling `frame.insert` many times, which has poor performance.  Consider joining all columns at once using pd.concat(axis=1) instead. To get a de-fragmented frame, use `newframe = frame.copy()`\n",
      "  samples_para[\"RL_\"+str(p)]=RLP(p,samples_para[\"mu\"],samples_para[\"sigma\"],samples_para[\"xi\"])\n"
     ]
    },
    {
     "name": "stdout",
     "output_type": "stream",
     "text": [
      "60255.95860743581\n"
     ]
    },
    {
     "name": "stderr",
     "output_type": "stream",
     "text": [
      "/tmp/ipykernel_60532/714187920.py:34: PerformanceWarning: DataFrame is highly fragmented.  This is usually the result of calling `frame.insert` many times, which has poor performance.  Consider joining all columns at once using pd.concat(axis=1) instead. To get a de-fragmented frame, use `newframe = frame.copy()`\n",
      "  samples_para[\"RL_\"+str(p)]=RLP(p,samples_para[\"mu\"],samples_para[\"sigma\"],samples_para[\"xi\"])\n"
     ]
    },
    {
     "name": "stdout",
     "output_type": "stream",
     "text": [
      "63095.73444801943\n"
     ]
    },
    {
     "name": "stderr",
     "output_type": "stream",
     "text": [
      "/tmp/ipykernel_60532/714187920.py:34: PerformanceWarning: DataFrame is highly fragmented.  This is usually the result of calling `frame.insert` many times, which has poor performance.  Consider joining all columns at once using pd.concat(axis=1) instead. To get a de-fragmented frame, use `newframe = frame.copy()`\n",
      "  samples_para[\"RL_\"+str(p)]=RLP(p,samples_para[\"mu\"],samples_para[\"sigma\"],samples_para[\"xi\"])\n"
     ]
    },
    {
     "name": "stdout",
     "output_type": "stream",
     "text": [
      "66069.34480075965\n"
     ]
    },
    {
     "name": "stderr",
     "output_type": "stream",
     "text": [
      "/tmp/ipykernel_60532/714187920.py:34: PerformanceWarning: DataFrame is highly fragmented.  This is usually the result of calling `frame.insert` many times, which has poor performance.  Consider joining all columns at once using pd.concat(axis=1) instead. To get a de-fragmented frame, use `newframe = frame.copy()`\n",
      "  samples_para[\"RL_\"+str(p)]=RLP(p,samples_para[\"mu\"],samples_para[\"sigma\"],samples_para[\"xi\"])\n"
     ]
    },
    {
     "name": "stdout",
     "output_type": "stream",
     "text": [
      "69183.09709189362\n"
     ]
    },
    {
     "name": "stderr",
     "output_type": "stream",
     "text": [
      "/tmp/ipykernel_60532/714187920.py:34: PerformanceWarning: DataFrame is highly fragmented.  This is usually the result of calling `frame.insert` many times, which has poor performance.  Consider joining all columns at once using pd.concat(axis=1) instead. To get a de-fragmented frame, use `newframe = frame.copy()`\n",
      "  samples_para[\"RL_\"+str(p)]=RLP(p,samples_para[\"mu\"],samples_para[\"sigma\"],samples_para[\"xi\"])\n"
     ]
    },
    {
     "name": "stdout",
     "output_type": "stream",
     "text": [
      "72443.59600749891\n"
     ]
    },
    {
     "name": "stderr",
     "output_type": "stream",
     "text": [
      "/tmp/ipykernel_60532/714187920.py:34: PerformanceWarning: DataFrame is highly fragmented.  This is usually the result of calling `frame.insert` many times, which has poor performance.  Consider joining all columns at once using pd.concat(axis=1) instead. To get a de-fragmented frame, use `newframe = frame.copy()`\n",
      "  samples_para[\"RL_\"+str(p)]=RLP(p,samples_para[\"mu\"],samples_para[\"sigma\"],samples_para[\"xi\"])\n"
     ]
    },
    {
     "name": "stdout",
     "output_type": "stream",
     "text": [
      "75857.75750291836\n"
     ]
    },
    {
     "name": "stderr",
     "output_type": "stream",
     "text": [
      "/tmp/ipykernel_60532/714187920.py:34: PerformanceWarning: DataFrame is highly fragmented.  This is usually the result of calling `frame.insert` many times, which has poor performance.  Consider joining all columns at once using pd.concat(axis=1) instead. To get a de-fragmented frame, use `newframe = frame.copy()`\n",
      "  samples_para[\"RL_\"+str(p)]=RLP(p,samples_para[\"mu\"],samples_para[\"sigma\"],samples_para[\"xi\"])\n"
     ]
    },
    {
     "name": "stdout",
     "output_type": "stream",
     "text": [
      "79432.82347242821\n"
     ]
    },
    {
     "name": "stderr",
     "output_type": "stream",
     "text": [
      "/tmp/ipykernel_60532/714187920.py:34: PerformanceWarning: DataFrame is highly fragmented.  This is usually the result of calling `frame.insert` many times, which has poor performance.  Consider joining all columns at once using pd.concat(axis=1) instead. To get a de-fragmented frame, use `newframe = frame.copy()`\n",
      "  samples_para[\"RL_\"+str(p)]=RLP(p,samples_para[\"mu\"],samples_para[\"sigma\"],samples_para[\"xi\"])\n"
     ]
    },
    {
     "name": "stdout",
     "output_type": "stream",
     "text": [
      "83176.37711026709\n"
     ]
    },
    {
     "name": "stderr",
     "output_type": "stream",
     "text": [
      "/tmp/ipykernel_60532/714187920.py:34: PerformanceWarning: DataFrame is highly fragmented.  This is usually the result of calling `frame.insert` many times, which has poor performance.  Consider joining all columns at once using pd.concat(axis=1) instead. To get a de-fragmented frame, use `newframe = frame.copy()`\n",
      "  samples_para[\"RL_\"+str(p)]=RLP(p,samples_para[\"mu\"],samples_para[\"sigma\"],samples_para[\"xi\"])\n"
     ]
    },
    {
     "name": "stdout",
     "output_type": "stream",
     "text": [
      "87096.35899560797\n"
     ]
    },
    {
     "name": "stderr",
     "output_type": "stream",
     "text": [
      "/tmp/ipykernel_60532/714187920.py:34: PerformanceWarning: DataFrame is highly fragmented.  This is usually the result of calling `frame.insert` many times, which has poor performance.  Consider joining all columns at once using pd.concat(axis=1) instead. To get a de-fragmented frame, use `newframe = frame.copy()`\n",
      "  samples_para[\"RL_\"+str(p)]=RLP(p,samples_para[\"mu\"],samples_para[\"sigma\"],samples_para[\"xi\"])\n"
     ]
    },
    {
     "name": "stdout",
     "output_type": "stream",
     "text": [
      "91201.08393559097\n"
     ]
    },
    {
     "name": "stderr",
     "output_type": "stream",
     "text": [
      "/tmp/ipykernel_60532/714187920.py:34: PerformanceWarning: DataFrame is highly fragmented.  This is usually the result of calling `frame.insert` many times, which has poor performance.  Consider joining all columns at once using pd.concat(axis=1) instead. To get a de-fragmented frame, use `newframe = frame.copy()`\n",
      "  samples_para[\"RL_\"+str(p)]=RLP(p,samples_para[\"mu\"],samples_para[\"sigma\"],samples_para[\"xi\"])\n"
     ]
    },
    {
     "name": "stdout",
     "output_type": "stream",
     "text": [
      "95499.25860214369\n",
      "100000.0\n"
     ]
    },
    {
     "name": "stderr",
     "output_type": "stream",
     "text": [
      "/tmp/ipykernel_60532/714187920.py:34: PerformanceWarning: DataFrame is highly fragmented.  This is usually the result of calling `frame.insert` many times, which has poor performance.  Consider joining all columns at once using pd.concat(axis=1) instead. To get a de-fragmented frame, use `newframe = frame.copy()`\n",
      "  samples_para[\"RL_\"+str(p)]=RLP(p,samples_para[\"mu\"],samples_para[\"sigma\"],samples_para[\"xi\"])\n"
     ]
    }
   ],
   "source": [
    "#Boucle all T\n",
    "\n",
    "x_axis=np.logspace(1,5,201)\n",
    "\n",
    "predict_meth_max=np.zeros( len(x_axis))\n",
    "estim_BE=np.zeros( len(x_axis))\n",
    "estim_low_99=np.zeros( len(x_axis))\n",
    "estim_up_99=np.zeros( len(x_axis))\n",
    "\n",
    "estim_low_95=np.zeros( len(x_axis))\n",
    "estim_up_95=np.zeros( len(x_axis))\n",
    "\n",
    "estim_low_90=np.zeros( len(x_axis))\n",
    "estim_up_90=np.zeros( len(x_axis))\n",
    "\n",
    "estim_low_70=np.zeros( len(x_axis))\n",
    "estim_up_70=np.zeros( len(x_axis))\n",
    "xlen=1000\n",
    "\n",
    "#law_coef_bay=pred_proba_max(Eq_Reliability,params,T1,T2,size=1000)\n",
    "\n",
    "\n",
    "\n",
    "for i in range(len(x_axis)):\n",
    "    T=x_axis[i]\n",
    "    p=1/T\n",
    "    #pred\n",
    "    predict_meth_max[i]=(float(law_coef_bay.quantile(1-1/T)))\n",
    "    \n",
    "    #estimatif\n",
    "    #IC\n",
    "\n",
    "    \n",
    "    samples_para[\"RL_\"+str(p)]=RLP(p,samples_para[\"mu\"],samples_para[\"sigma\"],samples_para[\"xi\"])\n",
    "\n",
    "    ci=0.01\n",
    "\n",
    "    estim_low_99[i]=samples_para[\"RL_\"+str(p)].quantile(ci/2)\n",
    "    estim_up_99[i]=samples_para[\"RL_\"+str(p)].quantile(1-ci/2)\n",
    "    ci=0.05\n",
    "    estim_low_95[i]=samples_para[\"RL_\"+str(p)].quantile(ci/2)\n",
    "    estim_up_95[i]=samples_para[\"RL_\"+str(p)].quantile(1-ci/2)\n",
    "    ci=0.1\n",
    "    estim_low_90[i]=samples_para[\"RL_\"+str(p)].quantile(ci/2)\n",
    "    estim_up_90[i]=samples_para[\"RL_\"+str(p)].quantile(1-ci/2)\n",
    "    \n",
    "    ci=0.3\n",
    "    estim_low_70[i]=samples_para[\"RL_\"+str(p)].quantile(ci/2)\n",
    "    estim_up_70[i]=samples_para[\"RL_\"+str(p)].quantile(1-ci/2)\n",
    "    \n",
    "\n",
    "    estim_BE[i]=samples_para[\"RL_\"+str(p)].median()\n",
    "\n",
    "\n",
    "    print(T)"
   ]
  },
  {
   "cell_type": "code",
   "execution_count": null,
   "id": "f80e217a",
   "metadata": {},
   "outputs": [],
   "source": []
  },
  {
   "cell_type": "code",
   "execution_count": 35,
   "id": "fb449d7d",
   "metadata": {},
   "outputs": [
    {
     "name": "stderr",
     "output_type": "stream",
     "text": [
      "<>:42: SyntaxWarning: invalid escape sequence '\\%'\n",
      "<>:42: SyntaxWarning: invalid escape sequence '\\%'\n",
      "/tmp/ipykernel_60532/4266913785.py:42: SyntaxWarning: invalid escape sequence '\\%'\n",
      "  label='$z_{10^{-2}}^{99\\%}> z_{2*10^{-3}}^{70\\%}$')\n"
     ]
    },
    {
     "data": {
      "image/png": "[encoded data removed]",
      "text/plain": [
       "<Figure size 800x500 with 1 Axes>"
      ]
     },
     "metadata": {},
     "output_type": "display_data"
    }
   ],
   "source": [
    "#x_axis=np.array([50,100,1000,10000,100000])\n",
    "x_axis_b=[1/i for i in x_axis]\n",
    "\n",
    "palette = {\n",
    "    '$z_p^{0.5}$': '#4c72b0',\n",
    "    '$z_p^{predictive}$': '#dd1c77'\n",
    "}\n",
    "\n",
    "\n",
    "#prépare data\n",
    "data_graph1=pd.DataFrame({'x':x_axis_b,'value':estim_BE,'method':'$z_p^{0.5}$'} )\n",
    "data_graph2=pd.DataFrame({'x':x_axis_b,'value':predict_meth_max,'method':'$z_p^{predictive}$'} )\n",
    "#data_graph3=pd.DataFrame({'x':x_axis_b,'value':predict_meth2,'method':'Prédictive moyenne'} )\n",
    "data_graph=pd.concat([data_graph1,data_graph2])#,data_graph3])\n",
    "\n",
    "ofile=os.path.join(   pathFig+\"Figure3.pdf\" )\n",
    "pdf= mpdf.PdfPages( ofile )\n",
    "#graph\n",
    "fig ,ax = plt.subplots( figsize = ( 8 , 5 ) )\n",
    "\n",
    "sns.lineplot(x='x', y='value',hue='method', data=data_graph,palette=palette)\n",
    "plt.fill_between(x_axis_b, estim_low_70, estim_up_70, alpha=.4,color='#4c72b0')\n",
    "#plt.fill_between(x_axis_b, estim_low_90, estim_up_90, alpha=.2,color='#4c72b0')\n",
    "plt.fill_between(x_axis_b, estim_low_95, estim_up_95, alpha=.2,color='#4c72b0')\n",
    "plt.fill_between(x_axis_b, estim_low_99, estim_up_99, alpha=.1,color='#4c72b0')\n",
    "\n",
    "place=100000\n",
    "place_b=1/place\n",
    "ax.text(place_b, estim_up_99[x_axis==place][0], \"99%\", ha = \"left\",va = \"center\" ,rotation = +10,#fontsize = 12,\n",
    "        fontstyle = \"oblique\", color = \"grey\",)\n",
    "ax.text(place_b, estim_up_95[x_axis==place][0], \"95%\", ha = \"left\",va = \"center\" ,rotation = +10,#fontsize = 12,\n",
    "        fontstyle = \"oblique\", color = \"#363737\",)\n",
    "#ax.text(place_b, estim_up_90[x_axis==place][0], \"90%\", ha = \"left\",va = \"center\" ,rotation = +10,#fontsize = 12,\n",
    "#        fontstyle = \"oblique\", color = \"#363737\",)\n",
    "ax.text(place_b, estim_up_70[x_axis==place][0], \"70%\", ha = \"left\",va = \"center\" ,rotation = +10,#fontsize = 12,\n",
    "        fontstyle = \"oblique\", color = \"black\",)\n",
    "\n",
    "\n",
    "\n",
    "plt.hlines(y=estim_up_99[x_axis==100][0], xmin=1/100, xmax=1/587\n",
    "           ,color='green',\n",
    "          label='$z_{10^{-2}}^{99\\%}> z_{2*10^{-3}}^{70\\%}$')\n",
    "\n",
    "plt.legend( loc='upper left')\n",
    "plt.ylabel('Value')\n",
    "plt.xlabel('Probability')\n",
    "\n",
    "#plt.xscale('log')\n",
    "ax.set_xscale('log')\n",
    "ax.xaxis.grid(True, which='minor',alpha=0.2)\n",
    "ax.set(xlim=(1/50, 1/100000))\n",
    "ax.xaxis.set_major_formatter(StrMethodFormatter('{x:.0e}'))\n",
    "\n",
    "#ax.tick_params(axis='x', which='minor', bottom=True)\n",
    "ax.tick_params(axis='x', which='major', bottom=True)\n",
    "#plt.gca().invert_xaxis()\n",
    "\n",
    "\n",
    "ax.tick_params(axis='y', which='minor', bottom=True)\n",
    "ax.tick_params(axis='y', which='major', bottom=True)\n",
    "ax.yaxis.set_minor_locator(AutoMinorLocator())\n",
    "\n",
    "\n",
    "for axis in ['top','bottom','left','right']:\n",
    "    axins.spines[axis].set_linewidth(0.5)\n",
    "plt.grid(alpha=0.3)\n",
    "\n",
    "pdf.savefig(fig, bbox_inches = 'tight')\n",
    "plt.show()\n",
    "plt.close(fig)\n",
    "pdf.close()"
   ]
  },
  {
   "cell_type": "code",
   "execution_count": null,
   "id": "0a7ca82d",
   "metadata": {},
   "outputs": [],
   "source": []
  },
  {
   "cell_type": "code",
   "execution_count": null,
   "id": "1f52d9ff",
   "metadata": {},
   "outputs": [],
   "source": []
  },
  {
   "cell_type": "code",
   "execution_count": null,
   "id": "5723d504",
   "metadata": {},
   "outputs": [],
   "source": []
  }
 ],
 "metadata": {
  "kernelspec": {
   "display_name": "TestSDFC",
   "language": "python",
   "name": "testsdfc"
  },
  "language_info": {
   "codemirror_mode": {
    "name": "ipython",
    "version": 3
   },
   "file_extension": ".py",
   "mimetype": "text/x-python",
   "name": "python",
   "nbconvert_exporter": "python",
   "pygments_lexer": "ipython3",
   "version": "3.12.0"
  }
 },
 "nbformat": 4,
 "nbformat_minor": 5
}
